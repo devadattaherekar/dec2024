{
 "cells": [
  {
   "cell_type": "code",
   "execution_count": null,
   "id": "ea753f3f-3663-4cd2-94c1-70444cc70280",
   "metadata": {},
   "outputs": [],
   "source": [
    "def show(**kwargs): \n",
    "    print(type(kwargs))\n",
    "    return kwargs\n",
    "\n",
    "print(show(var1=1)) # kwargs\n",
    "print(show(x=10,y=20)) # named args"
   ]
  },
  {
   "cell_type": "code",
   "execution_count": null,
   "id": "f5040332-ce51-48a1-b046-368e11ba97a3",
   "metadata": {},
   "outputs": [],
   "source": [
    "# Here * creates a tuple which can hold any number of unnamed arguments\n",
    "# Here ** creates a dict which can hold any number of named arguments\n",
    "# Order must be tuple first and then dict\n",
    "def add(*args,**kwargs):\n",
    "    total=0\n",
    "    #print(args,kwargs)\n",
    "    for value in args: # processing values from tuple\n",
    "        total+=value\n",
    "    for key,value in kwargs.items(): # processing values from dict\n",
    "        total+=value\n",
    "    return total\n",
    "\n",
    "print(add(x=10,y=20)) # kwargs\n",
    "print(add(var1=1000)) # named args\n",
    "print(add())\n",
    "print(add(x=1,y=2,z=3))\n",
    "print(add(10,20,30,40,50))\n",
    "print(add(100,200,var1=300,var2=400))"
   ]
  },
  {
   "cell_type": "code",
   "execution_count": null,
   "id": "c2010462-6987-4747-b177-91bd366dec3a",
   "metadata": {},
   "outputs": [],
   "source": [
    "# Note: tuple must be first and then dictionary\n",
    "# so that the function can work on any number of unamed args as well kwargs both!\n",
    "def show(*args,**kwargs): \n",
    "    print(type(args),args)\n",
    "    print(type(kwargs),kwargs)\n",
    "  \n",
    "show(1) # unnamed args\n",
    "show(x=10,y=20) # named args\n",
    "show(100,200,300,x=10,y=20) # mix of both unnamed and named args"
   ]
  },
  {
   "cell_type": "code",
   "execution_count": null,
   "id": "b1c06f4e-114a-44bf-a43b-67e064091ae0",
   "metadata": {},
   "outputs": [],
   "source": [
    "for value1 in range(1,4):\n",
    "    for value2 in range(1,4):\n",
    "        for value3 in range(1,4):\n",
    "            print(value1,value2,value3)"
   ]
  },
  {
   "cell_type": "code",
   "execution_count": null,
   "id": "bc56c43a-3fd7-45a5-8335-e142381d5558",
   "metadata": {},
   "outputs": [],
   "source": [
    "def add(*args): # Here * creates a tuple which can hold any number of unnamed args\n",
    "    total=0 #((10,20,30))\n",
    "    for value in args: # unpack tuple using for loop (10,20,30)\n",
    "        for item in value: # 10,20,30\n",
    "            total+=item\n",
    "    return total\n",
    "\n",
    "def calculate(*args): # (10,20,30)\n",
    "    print(\"calculate called\")\n",
    "    return add(args)\n",
    "\n",
    "print(calculate(10,20,30))\n",
    "print(add((10,20,30)))\n",
    "#print(add(10,20,30))"
   ]
  },
  {
   "cell_type": "code",
   "execution_count": null,
   "id": "b04e9856-afaa-4354-a5a7-8cf163c0ad28",
   "metadata": {},
   "outputs": [],
   "source": [
    "def show(x,y,z):\n",
    "    print(x,y,z)\n",
    "\n",
    "list1=[10,20,30]\n",
    "show(*list1) # 10,20,30\n",
    "show(list1[0],list1[1],list1[2])"
   ]
  },
  {
   "cell_type": "code",
   "execution_count": null,
   "id": "b676e35e-df35-4ef4-a3d4-7093be2c9c52",
   "metadata": {},
   "outputs": [],
   "source": [
    "def add(*args): # Here * creates a tuple which can hold any number of unnamed args\n",
    "    total=0 #(10,20,30)\n",
    "    for value in args: # unpack tuple using for loop (10,20,30)\n",
    "        total+=value\n",
    "    return total\n",
    "\n",
    "def calculate(*args): # (10,20,30)\n",
    "    print(\"calculate called\")\n",
    "    return add(*args) #10,20,30\n",
    "\n",
    "print(calculate(10,20,30))\n",
    "print(add(10,20,30))"
   ]
  },
  {
   "cell_type": "code",
   "execution_count": null,
   "id": "d5e524eb-545e-41fb-87cc-d524ff9e2867",
   "metadata": {},
   "outputs": [],
   "source": [
    "tuple1=(10,20,30)\n",
    "list1=[10,20,30]\n",
    "set1={10,20,30}\n",
    "def show(arg1,arg2,arg3):\n",
    "    print(arg1,arg2,arg3)\n",
    "\n",
    "show(*tuple1)\n",
    "show(*list1)\n",
    "show(*set1)"
   ]
  },
  {
   "cell_type": "code",
   "execution_count": null,
   "id": "dea87e14-06ea-41d8-87b3-cefec6741a0e",
   "metadata": {},
   "outputs": [],
   "source": [
    "players={\"10\":\"sachin\",\"99\":\"sehwag\"}\n",
    "\n",
    "def show(**kwargs): # dict into **kwargs\n",
    "    print(kwargs)\n",
    "\n",
    "show(**players) # upacking a dict\n",
    "show(x=10,y=20)\n",
    "show(**{\"var1\":\"1000\",\"var2\":\"2000\"})"
   ]
  },
  {
   "cell_type": "code",
   "execution_count": null,
   "id": "c09969ce-aed0-4ace-a7ba-0b7d2bbd3b75",
   "metadata": {},
   "outputs": [],
   "source": [
    "def function():\n",
    "    for value in range(1,6):\n",
    "        yield value  # use yield to create a generator function!\n",
    "\n",
    "print(list(function()))\n",
    "for value in function():\n",
    "    print(value,end=\" \")\n",
    "print(\" \")\n",
    "ref=function()\n",
    "print(next(ref))\n",
    "print(next(ref))\n",
    "print(next(ref))"
   ]
  },
  {
   "cell_type": "code",
   "execution_count": 2,
   "id": "e768ec12-8296-4ce7-98be-69c004efe038",
   "metadata": {},
   "outputs": [
    {
     "name": "stdout",
     "output_type": "stream",
     "text": [
      "[2, 4, 6, 8, 10]\n"
     ]
    }
   ],
   "source": [
    "def evens(count):\n",
    "    list_evens=[]\n",
    "    num=1\n",
    "    while num < count:\n",
    "        if num % 2==0:\n",
    "            list_evens.append(num)\n",
    "        num+=1\n",
    "    return list_evens\n",
    "\n",
    "print(evens(11))"
   ]
  },
  {
   "cell_type": "code",
   "execution_count": 7,
   "id": "daefc258-79ba-4d27-bade-0236c9654450",
   "metadata": {},
   "outputs": [
    {
     "name": "stdout",
     "output_type": "stream",
     "text": [
      "2 4 6 8 10  \n",
      "2\n",
      "4\n"
     ]
    }
   ],
   "source": [
    "def evens(count):\n",
    "    num=1\n",
    "    while num < count:\n",
    "        if num % 2==0:\n",
    "            yield num\n",
    "        num+=1\n",
    "\n",
    "for num in evens(11):\n",
    "    print(num,end=\" \")\n",
    "print(\" \")\n",
    "ref=evens(11)\n",
    "print(next(ref))\n",
    "print(next(ref))"
   ]
  },
  {
   "cell_type": "code",
   "execution_count": 16,
   "id": "4279ef51-6f4c-46b2-9366-429e367d4f71",
   "metadata": {},
   "outputs": [
    {
     "name": "stdout",
     "output_type": "stream",
     "text": [
      "[0, 1, 1, 2, 3, 5, 8, 13, 21, 34]\n"
     ]
    }
   ],
   "source": [
    "# 0 1 1 2 3 5 8 13 ....\n",
    "def fibo(num):\n",
    "    count=0\n",
    "    f1=0\n",
    "    f2=1\n",
    "    fibo_list=[]\n",
    "    while count < num:\n",
    "        fibo_list.append(f1)\n",
    "        f3=f1+f2\n",
    "        f1,f2=f2,f3\n",
    "        count+=1\n",
    "    return fibo_list\n",
    "        \n",
    "print(fibo(10))"
   ]
  },
  {
   "cell_type": "code",
   "execution_count": 18,
   "id": "c5802762-9142-4fbd-a8de-52c92ef03b25",
   "metadata": {},
   "outputs": [
    {
     "name": "stdout",
     "output_type": "stream",
     "text": [
      "<generator object fibo at 0x0000024094BD7E60>\n",
      "0 1 1 2 3 5 8 13 21 34 "
     ]
    }
   ],
   "source": [
    "def fibo(num):\n",
    "    count=0\n",
    "    f1=0\n",
    "    f2=1\n",
    "    while count < num:\n",
    "        yield f1\n",
    "        f3=f1+f2\n",
    "        f1,f2=f2,f3\n",
    "        count+=1\n",
    "        \n",
    "print(fibo(10))\n",
    "for num in fibo(10):\n",
    "    print(num,end=\" \")"
   ]
  },
  {
   "cell_type": "code",
   "execution_count": 20,
   "id": "1101ca2a-f452-44b8-a73a-30fb45c38683",
   "metadata": {},
   "outputs": [
    {
     "name": "stdout",
     "output_type": "stream",
     "text": [
      "2 4 6 8 10 "
     ]
    }
   ],
   "source": [
    "evens=(value for value in range(1,11) if value%2==0) # use ( ) shortend syntax to create generator!\n",
    "for num in evens:\n",
    "    print(num,end=\" \")"
   ]
  },
  {
   "cell_type": "code",
   "execution_count": 23,
   "id": "328f5f5e-5a13-4de8-bf26-31a107c02611",
   "metadata": {},
   "outputs": [
    {
     "name": "stdout",
     "output_type": "stream",
     "text": [
      "2 4 6 8 10 "
     ]
    }
   ],
   "source": [
    "# if you want to function to be generator use yield or ( ) shortend syntax to create generator!\n",
    "def evens():\n",
    "    for value in range(1,11): \n",
    "        if value%2==0:\n",
    "            yield value \n",
    "for num in evens():\n",
    "    print(num,end=\" \")"
   ]
  },
  {
   "cell_type": "code",
   "execution_count": 27,
   "id": "dce0f322-732e-4947-abcf-1eed0c564aa2",
   "metadata": {},
   "outputs": [
    {
     "name": "stdout",
     "output_type": "stream",
     "text": [
      "outer function called\n",
      "inner function called\n",
      "outer function ends\n"
     ]
    }
   ],
   "source": [
    "# python allows you to nest functions!\n",
    "def outer_function():\n",
    "    print(\"outer function called\")\n",
    "    def inner_function():\n",
    "        print(\"inner function called\")\n",
    "    inner_function()\n",
    "    print(\"outer function ends\")\n",
    "    \n",
    "outer_function()"
   ]
  },
  {
   "cell_type": "code",
   "execution_count": 33,
   "id": "e48ed81b-e0dd-461e-b5b8-3666d5671e2d",
   "metadata": {},
   "outputs": [
    {
     "name": "stdout",
     "output_type": "stream",
     "text": [
      "outer function called runs is  10\n",
      "inner function called sachin\n",
      "Runs is  10000\n",
      "outer function ends\n",
      "Player is sehwag\n"
     ]
    }
   ],
   "source": [
    "def outer_function(player,runs):\n",
    "    print(\"outer function called runs is \",runs)\n",
    "    def inner_function(player):\n",
    "        print(\"inner function called\",player)\n",
    "        return 10000\n",
    "    runs=inner_function(player)\n",
    "    print(\"Runs is \",runs)\n",
    "    print(\"outer function ends\")\n",
    "    player=\"sehwag\"\n",
    "    return player\n",
    "    \n",
    "player=outer_function(\"sachin\",10)\n",
    "print(\"Player is\",player)"
   ]
  },
  {
   "cell_type": "code",
   "execution_count": 48,
   "id": "7df7daf9-1b1b-4c0b-90d9-09eaf50828f6",
   "metadata": {},
   "outputs": [
    {
     "name": "stdout",
     "output_type": "stream",
     "text": [
      "outer function called ibm\n",
      "inner function called vinsys\n",
      "outer function ends vinsys\n",
      "Outside everything tomtom\n"
     ]
    }
   ],
   "source": [
    "company=\"tomtom\" #global object\n",
    "\n",
    "def outer_function():\n",
    "    #global company # do not create local reference use ref from global scope\n",
    "    company=\"ibm\" \n",
    "    print(\"outer function called\",company)\n",
    "    def inner_function():\n",
    "        #global company\n",
    "        nonlocal company # use the reference from outer scope\n",
    "        company=\"vinsys\"\n",
    "        print(\"inner function called\",company)\n",
    "    inner_function()\n",
    "    print(\"outer function ends\",company)\n",
    "    \n",
    "outer_function()\n",
    "print(\"Outside everything\",company)"
   ]
  },
  {
   "cell_type": "code",
   "execution_count": 52,
   "id": "5465edf4-f8c3-4731-92f1-cf97b1191c9f",
   "metadata": {},
   "outputs": [
    {
     "name": "stdout",
     "output_type": "stream",
     "text": [
      "<function foo at 0x0000024094BF80E0>\n",
      "foo called\n",
      "foo called\n"
     ]
    }
   ],
   "source": [
    "def foo():\n",
    "    print(\"foo called\")\n",
    "\n",
    "print(foo) # Note: Name of the function is the base address of the function!!! \n",
    "ref1=foo # store the address of foo function in ref1\n",
    "ref1() # use function call operator on ref1 to generate call to foo() function\n",
    "foo()"
   ]
  },
  {
   "cell_type": "code",
   "execution_count": 53,
   "id": "54849f25-ebae-492f-a1f3-5638d9c62dd2",
   "metadata": {},
   "outputs": [
    {
     "name": "stdout",
     "output_type": "stream",
     "text": [
      "in foo\n",
      "in bar\n"
     ]
    }
   ],
   "source": [
    "def bar():\n",
    "    print(\"in bar\")\n",
    "\n",
    "def foo(ref1): # ref1 is reference to bar function\n",
    "    print(\"in foo\")\n",
    "    ref1() # generate a call to bar() using ref1\n",
    "\n",
    "foo(bar) # Here address of bar is passed as arg"
   ]
  },
  {
   "cell_type": "code",
   "execution_count": 55,
   "id": "a51547c7-5d96-408e-b893-822bd2a14ae9",
   "metadata": {},
   "outputs": [
    {
     "name": "stdout",
     "output_type": "stream",
     "text": [
      "300 300\n"
     ]
    }
   ],
   "source": [
    "def add(x,y):\n",
    "    return x+y\n",
    "\n",
    "ref1=add \n",
    "print(ref1(100,200),add(100,200))"
   ]
  },
  {
   "cell_type": "code",
   "execution_count": 63,
   "id": "0b3646ed-5448-4f83-ab5d-d18ca2b00850",
   "metadata": {},
   "outputs": [
    {
     "name": "stdout",
     "output_type": "stream",
     "text": [
      "<function check at 0x0000024094BFAD40>\n",
      "<function monkey_patching at 0x0000024094BF8EA0>\n",
      "satish redhat\n",
      "<function monkey_patching at 0x0000024094BF8EA0>\n",
      "You are fooled by a monkey!\n"
     ]
    }
   ],
   "source": [
    "def check(username,password):\n",
    "    print(f\"{username} {password}\")\n",
    "def monkey_patching(var1,var2):\n",
    "    print(\"You are fooled by a monkey!\")\n",
    "print(check)\n",
    "print(monkey_patching)\n",
    "check(\"satish\",\"redhat\")\n",
    "check=monkey_patching # assigning address of one function to another function\n",
    "print(check)  # holds address of monkey patching function\n",
    "check(\"satish\",\"redhat\") # call monkey patching gets called not check!!!"
   ]
  },
  {
   "cell_type": "code",
   "execution_count": 69,
   "id": "a4c6eb40-4ce3-4f13-9b23-05e6f7ccd58f",
   "metadata": {},
   "outputs": [
    {
     "name": "stdout",
     "output_type": "stream",
     "text": [
      "Have a nice day vinay\n",
      "Have a nice day vinay\n"
     ]
    }
   ],
   "source": [
    "# Decorator is a function which takes address of the function to be decorated\n",
    "# You want to add some new functionality to existing code without making any changes\n",
    "# and protect direct calls to the function which can only be called indirectly\n",
    "# Decorator always takes address of the function to be decorated and always returns address of \n",
    "# some other function i.e. return address of inner function and call outerfunction using reference \n",
    "def greet_user(funcp):\n",
    "    def custom_greet():\n",
    "         print(\"Have a nice day\",end=\" \")\n",
    "         funcp()   \n",
    "    return custom_greet\n",
    "\n",
    "@greet_user\n",
    "def username():\n",
    "    print(\"vinay\")\n",
    "\n",
    "username()\n",
    "#username=greet_user(username)\n",
    "username()"
   ]
  },
  {
   "cell_type": "code",
   "execution_count": null,
   "id": "2947f204-077b-4556-a5bd-65ae0b8c0882",
   "metadata": {},
   "outputs": [],
   "source": []
  }
 ],
 "metadata": {
  "kernelspec": {
   "display_name": "Python 3 (ipykernel)",
   "language": "python",
   "name": "python3"
  },
  "language_info": {
   "codemirror_mode": {
    "name": "ipython",
    "version": 3
   },
   "file_extension": ".py",
   "mimetype": "text/x-python",
   "name": "python",
   "nbconvert_exporter": "python",
   "pygments_lexer": "ipython3",
   "version": "3.11.5"
  }
 },
 "nbformat": 4,
 "nbformat_minor": 5
}
