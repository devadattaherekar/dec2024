{
 "cells": [
  {
   "cell_type": "code",
   "execution_count": null,
   "id": "0e33d139",
   "metadata": {},
   "outputs": [],
   "source": [
    "import re\n",
    "\n",
    "print(dir(re))"
   ]
  },
  {
   "cell_type": "code",
   "execution_count": null,
   "id": "7b2a2771",
   "metadata": {},
   "outputs": [],
   "source": [
    "import re\n",
    "\n",
    "test_string=\"regular expressions are neither wild cards nor file globbing characters\"\n",
    "pattern=\"are\"\n",
    "print(re.findall(pattern,test_string))"
   ]
  },
  {
   "cell_type": "code",
   "execution_count": null,
   "id": "53397f1a",
   "metadata": {},
   "outputs": [],
   "source": [
    "import re\n",
    "\n",
    "test_string=\"python is beautiful and python is easy\"\n",
    "pattern=\"python\"\n",
    "print(re.findall(pattern,test_string))\n",
    "pattern=\"^python\"\n",
    "print(re.findall(pattern,test_string))\n",
    "pattern=\"easy$\"\n",
    "print(re.findall(pattern,test_string))"
   ]
  },
  {
   "cell_type": "code",
   "execution_count": null,
   "id": "2b8c1ce3",
   "metadata": {},
   "outputs": [],
   "source": [
    "import re\n",
    "\n",
    "test_string=\"de.va_her123@gmail.com\"\n",
    "pattern=\"[a-z]\"\n",
    "print(re.findall(pattern,test_string))\n",
    "pattern=\"[a-z][a-z]\"\n",
    "print(re.findall(pattern,test_string))\n",
    "pattern=\".\"\n",
    "print(re.findall(pattern,test_string))\n",
    "pattern=\"\\.\"\n",
    "print(re.findall(pattern,test_string))\n",
    "pattern=\"\\d\"\n",
    "print(re.findall(pattern,test_string))\n",
    "pattern=\"\\d\\d\"\n",
    "print(re.findall(pattern,test_string))\n",
    "pattern=\"\\d{2}\"\n",
    "print(re.findall(pattern,test_string))\n",
    "pattern=\"\\d{1,}\"\n",
    "print(re.findall(pattern,test_string))\n",
    "pattern=\"\\d{1,3}\"\n",
    "print(re.findall(pattern,test_string))\n",
    "pattern=\"\\W\"\n",
    "print(re.findall(pattern,test_string))"
   ]
  },
  {
   "cell_type": "code",
   "execution_count": null,
   "id": "6e0a13db",
   "metadata": {},
   "outputs": [],
   "source": [
    "import re\n",
    "\n",
    "test_string=\"devadatta.herekar123@hotmail.com\"\n",
    "pattern=\"[a-zA-Z0-9\\.]+@hotmail.com\"\n",
    "print(re.findall(pattern,test_string))"
   ]
  },
  {
   "cell_type": "code",
   "execution_count": null,
   "id": "2924dcaa",
   "metadata": {},
   "outputs": [],
   "source": [
    "import re\n",
    "\n",
    "PAN=\"ABCDE1234T\"\n",
    "pattern=\"[A-Za-z]{5}[0-9]{4}[A-Za-z]{1}$\"\n",
    "print(re.findall(pattern,PAN))"
   ]
  },
  {
   "cell_type": "code",
   "execution_count": null,
   "id": "06493dce",
   "metadata": {},
   "outputs": [],
   "source": [
    "import re\n",
    "\n",
    "test_string=\"\"\"india is a country pakistan is also a country\n",
    "indians stay everywhere\n",
    "but redindians do not stay in india\n",
    "india india india\n",
    "\"\"\"\n",
    "pattern=\"india|pakistan|is|also\"\n",
    "print(re.findall(pattern,test_string))\n",
    "pattern=\"(india india india)\"\n",
    "print(re.findall(pattern,test_string))"
   ]
  },
  {
   "cell_type": "code",
   "execution_count": null,
   "id": "ef116136",
   "metadata": {},
   "outputs": [],
   "source": [
    "import re\n",
    "\n",
    "test_string=\"python has 2 major versions python2 and python3\"\n",
    "pattern=\"python\"\n",
    "print(re.findall(pattern,test_string))\n",
    "pattern=\"python[23]\"\n",
    "print(re.findall(pattern,test_string))\n",
    "pattern=\"python\\d\"\n",
    "print(re.findall(pattern,test_string))\n",
    "print(re.findall(pattern,test_string))"
   ]
  },
  {
   "cell_type": "code",
   "execution_count": null,
   "id": "d8e23e6b",
   "metadata": {},
   "outputs": [],
   "source": [
    "import re\n",
    "\n",
    "test_string=\"ac abc abbbc abcabc blahabc abcblah\"\n",
    "pattern=\"ab?c\"\n",
    "print(re.findall(pattern,test_string))\n",
    "pattern=\"ab*c\"\n",
    "print(re.findall(pattern,test_string))\n",
    "pattern=\"ab+c\"\n",
    "print(re.findall(pattern,test_string))"
   ]
  },
  {
   "cell_type": "code",
   "execution_count": null,
   "id": "81e77bb5",
   "metadata": {},
   "outputs": [],
   "source": [
    "test_string=\"devadatta.herekar123@hotmail.com\"\n",
    "pattern=\"[a-zA-Z0-9\\.]+@hotmail.com\"\n",
    "print(re.findall(pattern,test_string))"
   ]
  },
  {
   "cell_type": "code",
   "execution_count": null,
   "id": "053aa3a6",
   "metadata": {},
   "outputs": [],
   "source": [
    "price=\"$ 12,123,56.67/-\"\n",
    "pattern=\"^\\$\\s[0-9]+,[0-9+,]+\\.[0-9]{2}/-\"\n",
    "print(re.findall(pattern,price))"
   ]
  },
  {
   "cell_type": "code",
   "execution_count": null,
   "id": "ce775717",
   "metadata": {},
   "outputs": [],
   "source": [
    "url=\"https://home-shop.com\"\n",
    "pattern=\"^https?://[a-z-A-Z]+\\.(com|net)\"\n",
    "#re.findall(pattern,url)"
   ]
  },
  {
   "cell_type": "code",
   "execution_count": 28,
   "id": "45b992ed",
   "metadata": {},
   "outputs": [
    {
     "name": "stdout",
     "output_type": "stream",
     "text": [
      "<re.Match object; span=(0, 6), match='python'>\n",
      "<re.Match object; span=(0, 6), match='python'>\n",
      "None\n",
      "<re.Match object; span=(40, 47), match='python3'>\n",
      "python3\n",
      "40\n",
      "46\n"
     ]
    }
   ],
   "source": [
    "import re\n",
    "\n",
    "test_string=\"python has 2 major versions python2 and python3\"\n",
    "pattern=\"python\"\n",
    "print(re.match(pattern,test_string))\n",
    "print(re.search(pattern,test_string))\n",
    "pattern=\"python[23]\"\n",
    "print(re.match(pattern,test_string))\n",
    "print(re.search(pattern,test_string))\n",
    "ref=re.search(pattern,test_string) \n",
    "#print(dir(ref))\n",
    "if ref:   \n",
    "    print(ref.group())\n",
    "    print(ref.start())\n",
    "    print(ref.end()-1)\n",
    "else:\n",
    "    print(\"Match not found!\")"
   ]
  },
  {
   "cell_type": "code",
   "execution_count": 38,
   "id": "b5215476",
   "metadata": {},
   "outputs": [
    {
     "name": "stdout",
     "output_type": "stream",
     "text": [
      "oracle has 2 major versions oracle2 and oracle3\n",
      "oracle has 2 major versions python2 and python3\n",
      "oracle has 2 major versions oracle2 and python3\n"
     ]
    }
   ],
   "source": [
    "import re\n",
    "\n",
    "test_string=\"python has 2 major versions python2 and python3\"\n",
    "pattern=\"python\"\n",
    "print(re.sub(pattern,\"oracle\",test_string))\n",
    "print(re.sub(pattern,\"oracle\",test_string,count=1))\n",
    "print(re.sub(pattern,\"oracle\",test_string,count=2))"
   ]
  },
  {
   "cell_type": "code",
   "execution_count": 32,
   "id": "8535eb37",
   "metadata": {},
   "outputs": [
    {
     "name": "stdout",
     "output_type": "stream",
     "text": [
      "['python has ', ' 2 major ', '  versions  ', ' python2 and python3']\n"
     ]
    }
   ],
   "source": [
    "import re\n",
    "\n",
    "test_string=\"python has , 2 major :  versions  @ python2 and python3\"\n",
    "pattern=\",|:|@\"\n",
    "print(re.split(pattern,test_string))"
   ]
  },
  {
   "cell_type": "code",
   "execution_count": 44,
   "id": "835cd0ea",
   "metadata": {},
   "outputs": [
    {
     "name": "stdout",
     "output_type": "stream",
     "text": [
      "accenture has 2 major versions accenture2 and accenture3\n",
      "accenture has 2 major versions Python2 and pythoN3\n",
      "('accenture has 2 major versions accenture2 and accenture3', 3)\n"
     ]
    }
   ],
   "source": [
    "import re\n",
    "\n",
    "test_string=\"PYTHON has 2 major versions Python2 and pythoN3\"\n",
    "pattern=\"python|PYTHON\"\n",
    "\n",
    "print(re.sub(pattern,\"accenture\",test_string,flags=re.IGNORECASE))\n",
    "print(re.sub(pattern,\"accenture\",test_string))\n",
    "print(re.subn(pattern,\"accenture\",test_string,flags=re.IGNORECASE))"
   ]
  },
  {
   "cell_type": "code",
   "execution_count": 49,
   "id": "f58721c3",
   "metadata": {},
   "outputs": [
    {
     "name": "stdout",
     "output_type": "stream",
     "text": [
      "['python', 'python', 'python']\n",
      "<re.Match object; span=(0, 6), match='python'>\n",
      "<re.Match object; span=(0, 6), match='python'>\n",
      "vodafone has 2 major versions vodafone2 and vodafone3\n",
      "('vodafone has 2 major versions vodafone2 and vodafone3', 3)\n",
      "['python', 'python', 'python']\n",
      "<re.Match object; span=(0, 6), match='python'>\n",
      "<re.Match object; span=(0, 6), match='python'>\n",
      "vodafone has 2 major versions vodafone2 and vodafone3\n",
      "('vodafone has 2 major versions vodafone2 and vodafone3', 3)\n"
     ]
    }
   ],
   "source": [
    "import re\n",
    "\n",
    "test_string=\"python has 2 major versions python2 and python3\"\n",
    "pattern=\"python\"\n",
    "\n",
    "print(re.findall(pattern,test_string))\n",
    "print(re.search(pattern,test_string))\n",
    "print(re.match(pattern,test_string))\n",
    "print(re.sub(pattern,\"vodafone\",test_string))\n",
    "print(re.subn(pattern,\"vodafone\",test_string))\n",
    "\n",
    "obj=re.compile(pattern)\n",
    "print(obj.findall(test_string))\n",
    "print(obj.search(test_string))\n",
    "print(obj.match(test_string))\n",
    "print(obj.sub(\"vodafone\",test_string))\n",
    "print(obj.subn(\"vodafone\",test_string))"
   ]
  }
 ],
 "metadata": {
  "kernelspec": {
   "display_name": "Python 3 (ipykernel)",
   "language": "python",
   "name": "python3"
  },
  "language_info": {
   "codemirror_mode": {
    "name": "ipython",
    "version": 3
   },
   "file_extension": ".py",
   "mimetype": "text/x-python",
   "name": "python",
   "nbconvert_exporter": "python",
   "pygments_lexer": "ipython3",
   "version": "3.9.12"
  }
 },
 "nbformat": 4,
 "nbformat_minor": 5
}
