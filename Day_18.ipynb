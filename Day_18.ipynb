{
 "cells": [
  {
   "cell_type": "code",
   "execution_count": null,
   "id": "abd29ab0-df08-425d-a10b-5a85620e2485",
   "metadata": {},
   "outputs": [],
   "source": [
    "# database connectivity \n",
    "# sql is a programming language to interact with relational databases (rows and columns)\n",
    "# rdbms (relational database management system) uses sql to interact\n",
    "# sqlite3 is a builtin rdbms in python you dont have to install it!\n",
    "# sqlite3 is light weight (memory consumtion is very less) and all data is stored in a flat db.file!\n",
    "# sqlite3 is used if you are developing some application to be used for a single user\n",
    "# As sqlite3 can only support multiple reads simulateneously not does not supports mutiple rights simulatenously\n",
    "# sqlite3 datatypes are integer,text,real,null,blob\n",
    "\n",
    "# Note: step 1,2,4 and 5 will never change for any CRUD operations only step 3 will change!\n",
    "#1. create connection\n",
    "#2. create cursor\n",
    "#3. exceute sql query using cursor\n",
    "#4. commit connection\n",
    "#5. close connection\n"
   ]
  }
 ],
 "metadata": {
  "kernelspec": {
   "display_name": "Python 3 (ipykernel)",
   "language": "python",
   "name": "python3"
  },
  "language_info": {
   "codemirror_mode": {
    "name": "ipython",
    "version": 3
   },
   "file_extension": ".py",
   "mimetype": "text/x-python",
   "name": "python",
   "nbconvert_exporter": "python",
   "pygments_lexer": "ipython3",
   "version": "3.11.5"
  }
 },
 "nbformat": 4,
 "nbformat_minor": 5
}
