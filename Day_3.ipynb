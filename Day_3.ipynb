{
 "cells": [
  {
   "cell_type": "code",
   "execution_count": null,
   "id": "b3ebed0f-e6ac-441a-9a9a-c4d5859f8c4d",
   "metadata": {},
   "outputs": [],
   "source": [
    "# use ctrl+ / to comment and uncomment a block while debugging!\n",
    "print(\"can print \\n'single quotes' \\nwithin double quotes\")\n",
    "print('can print \\n\"double quotes\"\\n within single quotes')\n",
    "print(\"Use escape \\tsequences to print\\t \\\"double quotes\\\" \\t within double quotes\")\n",
    "print('Use escape \\t sequences to print\\t \\'single quotes\\' \\t within double quotes')\n",
    "print(\"\"\"\n",
    "            Triple quotes can enclose\n",
    "            any number of \"double quotes\" \n",
    "            as well as 'single quotes'\n",
    "            without using escape sequences to do formatting!\n",
    "\"\"\")\n",
    "print('''\n",
    "            Triple quotes can enclose\n",
    "            any number of \"double quotes\" \n",
    "            as well as 'single quotes'\n",
    "            without using escape sequences to do formatting!\n",
    "''')"
   ]
  },
  {
   "cell_type": "code",
   "execution_count": null,
   "id": "db039386-7adb-4ab0-bfae-24a4bf0e9def",
   "metadata": {},
   "outputs": [],
   "source": [
    "# use index slicing operator on class str\n",
    "# [ start : next_to_last : step_count ]\n",
    "# start is 0 by default and step_count is 1 by default\n",
    "guideline1=\"How to write beautiful code in python using PEP 8\"\n",
    "print(guideline1)\n",
    "print(guideline1[:])\n",
    "print(guideline1[::])\n",
    "print(guideline1[::1])\n",
    "print(guideline1[0])\n",
    "print(guideline1[0:3]) # Here 3 is not included! How\n",
    "print(guideline1[::2])\n",
    "print(guideline1[-1]) # 8\n",
    "print(guideline1[-5:]) # PEP 8\n",
    "print(guideline1[-18:-12]) # python step_count is 1 by default\n",
    "# use lower index to higher index for negative values else use a negative step count!\n",
    "print(guideline1[::-1]) # reverse the str object!"
   ]
  },
  {
   "cell_type": "code",
   "execution_count": null,
   "id": "56db6a0d-3361-4408-b6b2-751b88d26454",
   "metadata": {},
   "outputs": [],
   "source": [
    "# How to perform concatenation of strings\n",
    "network_id=\"192.168\"\n",
    "host_id=\"10.1\"\n",
    "ip_address=network_id+\".\"+host_id # use + to concatenate str objects\n",
    "print(f\"ip address of system is  = {ip_address}\")\n",
    "ip_address=f\"{network_id}.{host_id}\" # use fstring to concatenate str object using pythonic way!\n",
    "print(f\"ip address of system is  = {ip_address}\")\n",
    "subnet=24\n",
    "print(f\"ip with subnet is {ip_address}/{subnet}\") # pythonic style keeps concatenation clean!\n",
    "ip_sub=ip_address+\"/\"+str(subnet) # traditional way of concate using +\n",
    "print(f\"ip with subnet is {ip_sub}\")"
   ]
  },
  {
   "cell_type": "code",
   "execution_count": null,
   "id": "20dbc73a-bebb-4eaf-bd4b-17f6d08a4c1d",
   "metadata": {},
   "outputs": [],
   "source": [
    "guideline2=\"zen of python using pep 20\"\n",
    "print(f\"Length of the string is {len(guideline2)}\")\n",
    "guideline_3times=guideline2*3\n",
    "print(guideline_3times)\n",
    "guideline_3times=guideline2.__mul__(3) # implicit method gets called if you use * operator!\n",
    "print(guideline_3times)"
   ]
  },
  {
   "cell_type": "code",
   "execution_count": 1,
   "id": "cd8dcca6-3713-4a83-bcdd-5f30df2611fb",
   "metadata": {},
   "outputs": [
    {
     "name": "stdout",
     "output_type": "stream",
     "text": [
      "['__add__', '__class__', '__contains__', '__delattr__', '__dir__', '__doc__', '__eq__', '__format__', '__ge__', '__getattribute__', '__getitem__', '__getnewargs__', '__getstate__', '__gt__', '__hash__', '__init__', '__init_subclass__', '__iter__', '__le__', '__len__', '__lt__', '__mod__', '__mul__', '__ne__', '__new__', '__reduce__', '__reduce_ex__', '__repr__', '__rmod__', '__rmul__', '__setattr__', '__sizeof__', '__str__', '__subclasshook__', 'capitalize', 'casefold', 'center', 'count', 'encode', 'endswith', 'expandtabs', 'find', 'format', 'format_map', 'index', 'isalnum', 'isalpha', 'isascii', 'isdecimal', 'isdigit', 'isidentifier', 'islower', 'isnumeric', 'isprintable', 'isspace', 'istitle', 'isupper', 'join', 'ljust', 'lower', 'lstrip', 'maketrans', 'partition', 'removeprefix', 'removesuffix', 'replace', 'rfind', 'rindex', 'rjust', 'rpartition', 'rsplit', 'rstrip', 'split', 'splitlines', 'startswith', 'strip', 'swapcase', 'title', 'translate', 'upper', 'zfill']\n"
     ]
    }
   ],
   "source": [
    "print(dir(str)) # return a list of all methods of str class\n",
    "# __method__() # implict methods # dunder methods # magic methods"
   ]
  },
  {
   "cell_type": "code",
   "execution_count": null,
   "id": "6816cd47-13f1-4ea0-bf2c-4d31e08fad09",
   "metadata": {},
   "outputs": [],
   "source": [
    "print(help(str.isnumeric)) # use shift + tab to pull docstring for any method using ide feature"
   ]
  },
  {
   "cell_type": "code",
   "execution_count": null,
   "id": "01b19c3e-c7cd-4b19-a21a-4b9c07d0f97b",
   "metadata": {},
   "outputs": [],
   "source": [
    "print? # use ? after function to pull docstring for any function"
   ]
  },
  {
   "cell_type": "code",
   "execution_count": null,
   "id": "a5856f83-c1a5-4023-a3b2-dc2604542dc7",
   "metadata": {},
   "outputs": [],
   "source": [
    "company=\"tomtom\"\n",
    "print(company.isalnum())\n",
    "print(company.isdigit())\n",
    "print(company.isnumeric())\n",
    "print(company.isupper())\n",
    "print(company.islower())\n",
    "print(company.isprintable())\n",
    "print(company.isalpha())\n",
    "print(company.startswith('t'))\n",
    "print(company.startswith('tom'))\n",
    "print(company.endswith('M'))"
   ]
  },
  {
   "cell_type": "code",
   "execution_count": null,
   "id": "91bc2b55-49ec-4491-8094-84eb226e07bc",
   "metadata": {},
   "outputs": [],
   "source": [
    "# str object is immutable any method on str object creates a new object at new memory location\n",
    "company=\"tomtom india\"\n",
    "print(id(company))\n",
    "print(company.upper())\n",
    "company=company.title()\n",
    "print(company,id(company))\n",
    "company=company.capitalize()\n",
    "print(company)\n",
    "company=company.swapcase()\n",
    "print(company)\n",
    "company=company.lower()\n",
    "print(company)"
   ]
  },
  {
   "cell_type": "code",
   "execution_count": 14,
   "id": "334aaec0-90c0-4789-bfde-a41c8aa71795",
   "metadata": {},
   "outputs": [
    {
     "name": "stdout",
     "output_type": "stream",
     "text": [
      "********************************************tomtom india********************************************\n",
      "tomtom india----------------------------------------------------------------------------------------\n",
      "$$$$$$$$$$$$$$$$$$$$$$$$$$$$$$$$$$$$$$$$$$$$$$$$$$$$$$$$$$$$$$$$$$$$$$$$$$$$$$$$$$$$$$$$tomtom india\n"
     ]
    }
   ],
   "source": [
    "company=\"tomtom india\"\n",
    "print(company.center(100,'*'))\n",
    "print(company.ljust(100,'-'))\n",
    "print(company.rjust(100,'$'))"
   ]
  },
  {
   "cell_type": "code",
   "execution_count": 20,
   "id": "64b66012-8e64-4538-bbac-f2db270e0a67",
   "metadata": {},
   "outputs": [
    {
     "name": "stdout",
     "output_type": "stream",
     "text": [
      "python is easy and python is beautiful python\n",
      " is easy and python is beautiful python\n",
      " is easy and python is beautiful \n"
     ]
    }
   ],
   "source": [
    "fact=\"          python is easy and python is beautiful python    \"\n",
    "fact=fact.strip() # whitespace by default are striped from both ends!\n",
    "print(fact)\n",
    "#fact=fact.strip(\"python\") # remove string from both ends!\n",
    "#print(fact)\n",
    "fact=fact.lstrip(\"python\") # remove string from leftside\n",
    "print(fact)\n",
    "fact=fact.rstrip(\"python\") # remove string from rightside\n",
    "print(fact)"
   ]
  },
  {
   "cell_type": "code",
   "execution_count": 24,
   "id": "dc1e6c60-c7b4-4971-9fdb-9b9cc3223777",
   "metadata": {},
   "outputs": [
    {
     "name": "stdout",
     "output_type": "stream",
     "text": [
      "python\n",
      "3.13 <class 'float'>\n"
     ]
    }
   ],
   "source": [
    "check=\"ipython3.13\"\n",
    "language=check.strip(\"i\").strip(\"3.13\") # strip returns str object so can use cascading\n",
    "print(language)\n",
    "version=float(check.strip(\"ipython\")) # use conversion function to convert str object\n",
    "print(version,type(version))"
   ]
  },
  {
   "cell_type": "code",
   "execution_count": 28,
   "id": "b6973c57-08c7-4219-994c-7b6c9612b832",
   "metadata": {},
   "outputs": [
    {
     "name": "stdout",
     "output_type": "stream",
     "text": [
      "['devadatta', 'gmail.com'] <class 'list'>\n",
      " username is devadatta\n",
      " Domain is gmail.com\n"
     ]
    }
   ],
   "source": [
    "email=\"devadatta@gmail.com\"\n",
    "parse_email=email.split('@') # split method returns a list of values after parsing the str object\n",
    "print(parse_email,type(parse_email))\n",
    "print(f\" username is {parse_email[0]}\")\n",
    "print(f\" Domain is {parse_email[1]}\")"
   ]
  },
  {
   "cell_type": "code",
   "execution_count": 33,
   "id": "7361a079-e063-4d91-acee-28789e92802a",
   "metadata": {},
   "outputs": [
    {
     "name": "stdout",
     "output_type": "stream",
     "text": [
      "<class 'list'> <class 'str'>\n",
      "Day is 13\n",
      "Month is Nov\n",
      "Year is 2024\n"
     ]
    }
   ],
   "source": [
    "date=\"13-Nov-2024\"\n",
    "parse_date=date.split(\"-\")\n",
    "print(type(parse_date),type(parse_date[0]))\n",
    "print(f\"Day is {int(parse_date[0])}\")\n",
    "print(f\"Month is {parse_date[1]}\")\n",
    "print(f\"Year is {int(parse_date[2])}\")"
   ]
  },
  {
   "cell_type": "code",
   "execution_count": 48,
   "id": "86ef07d3-f007-4342-9c0e-201733bdc616",
   "metadata": {},
   "outputs": [
    {
     "name": "stdout",
     "output_type": "stream",
     "text": [
      "\n",
      "         ansible uses multiple variable assignments\n",
      "         e.g emp_id,emp_sal,emp_name=100,2.1,\"vinay\"\n",
      "         ansible uses tuple unpacking to do so\n",
      "         e.g product,price=\"laptop\",100000\n",
      "\n",
      "\n",
      "         ansible uses multiple variable assignments\n",
      "         e.g emp_id,emp_sal,emp_name=100,2.1,\"vinay\"\n",
      "         ansible uses tuple unpacking to do so\n",
      "         e.g product,price=\"laptop\",100000\n",
      "\n"
     ]
    }
   ],
   "source": [
    "fact1=\"\"\"\n",
    "         ansible uses multiple variable assignments\n",
    "         e.g emp_id,emp_sal,emp_name=100,2.1,\"vinay\"\n",
    "         ansible uses tuple unpacking to do so\n",
    "         e.g product,price=\"laptop\",100000\n",
    "\"\"\"\n",
    "print(fact1)\n",
    "fact1.replace(\"ansible\",\"python\") # will replace all occurances by default\n",
    "print(fact1)"
   ]
  },
  {
   "cell_type": "code",
   "execution_count": 47,
   "id": "fbb6aa2e-8e6e-4e93-b607-784721f9ec90",
   "metadata": {},
   "outputs": [
    {
     "name": "stdout",
     "output_type": "stream",
     "text": [
      "insert into emp values(vinay,100,1.2)\n"
     ]
    }
   ],
   "source": [
    "sql_query=\"insert into emp values(%s , %d , %f)\"\n",
    "create_sql=sql_query.replace(\"%s , %d , %f\",\"vinay,100,1.2\")\n",
    "print(create_sql)"
   ]
  },
  {
   "cell_type": "code",
   "execution_count": 52,
   "id": "5d4c14ff-b201-4622-b018-c3b943818197",
   "metadata": {},
   "outputs": [
    {
     "name": "stdout",
     "output_type": "stream",
     "text": [
      " 12,500.99 <class 'str'>\n",
      "12500.99 <class 'float'>\n"
     ]
    }
   ],
   "source": [
    "price=\" Rs 12,500.99/- \"\n",
    "price=price.strip().strip(\"Rs\").strip(\"/-\")\n",
    "print(price,type(price))\n",
    "price=float(price.replace(\",\",\"\"))\n",
    "print(price,type(price))"
   ]
  },
  {
   "cell_type": "code",
   "execution_count": 55,
   "id": "5ea916f9-d8ef-4341-9f1a-b1027b53337f",
   "metadata": {},
   "outputs": [
    {
     "name": "stdout",
     "output_type": "stream",
     "text": [
      "tomtom\n",
      "t\to\tm\tt\to\tm\n",
      "t,o,m,t,o,m\n"
     ]
    }
   ],
   "source": [
    "company=['t','o','m','t','o','m']\n",
    "print(\"\".join(company))\n",
    "print(\"\\t\".join(company))\n",
    "print(\",\".join(company))"
   ]
  },
  {
   "cell_type": "code",
   "execution_count": 66,
   "id": "2dceb78a-848c-4a91-b487-a71e2b4cbee6",
   "metadata": {},
   "outputs": [
    {
     "name": "stdout",
     "output_type": "stream",
     "text": [
      "196\n",
      "10\n",
      "2\n",
      "62\n",
      "162\n",
      "62\n",
      "162\n",
      "-1\n",
      "Substring not present\n"
     ]
    }
   ],
   "source": [
    "fact1=\"\"\"\n",
    "         ansible uses multiple variable assignments\n",
    "         e.g emp_id,emp_sal,emp_name=100,2.1,\"vinay\"\n",
    "         ansible uses tuple unpacking to do so\n",
    "         e.g product,price=\"laptop\",100000\n",
    "\"\"\"\n",
    "print(len(fact1))\n",
    "print(fact1.count('a'))\n",
    "print(fact1.count('e.g'))\n",
    "print(fact1.find('e.g'))\n",
    "print(fact1.find('e.g',63))\n",
    "print(fact1.index('e.g'))\n",
    "print(fact1.index('e.g',63))\n",
    "print(fact1.find('dockers'))\n",
    "try:\n",
    "    print(fact1.index('dockers'))\n",
    "except:\n",
    "    print(\"Substring not present\")"
   ]
  },
  {
   "cell_type": "code",
   "execution_count": null,
   "id": "e4e529a0-d722-4617-be42-9b11496be095",
   "metadata": {},
   "outputs": [],
   "source": []
  }
 ],
 "metadata": {
  "kernelspec": {
   "display_name": "Python 3 (ipykernel)",
   "language": "python",
   "name": "python3"
  },
  "language_info": {
   "codemirror_mode": {
    "name": "ipython",
    "version": 3
   },
   "file_extension": ".py",
   "mimetype": "text/x-python",
   "name": "python",
   "nbconvert_exporter": "python",
   "pygments_lexer": "ipython3",
   "version": "3.11.5"
  }
 },
 "nbformat": 4,
 "nbformat_minor": 5
}
