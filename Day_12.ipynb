{
 "cells": [
  {
   "cell_type": "code",
   "execution_count": 3,
   "id": "9a57c2bb-12c4-4e2b-8217-9dd3acdbf93d",
   "metadata": {},
   "outputs": [
    {
     "name": "stdout",
     "output_type": "stream",
     "text": [
      "['DirEntry', 'EX_OK', 'F_OK', 'GenericAlias', 'Mapping', 'MutableMapping', 'O_APPEND', 'O_BINARY', 'O_CREAT', 'O_EXCL', 'O_NOINHERIT', 'O_RANDOM', 'O_RDONLY', 'O_RDWR', 'O_SEQUENTIAL', 'O_SHORT_LIVED', 'O_TEMPORARY', 'O_TEXT', 'O_TRUNC', 'O_WRONLY', 'P_DETACH', 'P_NOWAIT', 'P_NOWAITO', 'P_OVERLAY', 'P_WAIT', 'PathLike', 'R_OK', 'SEEK_CUR', 'SEEK_END', 'SEEK_SET', 'TMP_MAX', 'W_OK', 'X_OK', '_AddedDllDirectory', '_Environ', '__all__', '__builtins__', '__doc__', '__file__', '__loader__', '__name__', '__package__', '__spec__', '_check_methods', '_execvpe', '_exists', '_exit', '_fspath', '_get_exports_list', '_walk', '_wrap_close', 'abc', 'abort', 'access', 'add_dll_directory', 'altsep', 'chdir', 'chmod', 'close', 'closerange', 'cpu_count', 'curdir', 'defpath', 'device_encoding', 'devnull', 'dup', 'dup2', 'environ', 'error', 'execl', 'execle', 'execlp', 'execlpe', 'execv', 'execve', 'execvp', 'execvpe', 'extsep', 'fdopen', 'fsdecode', 'fsencode', 'fspath', 'fstat', 'fsync', 'ftruncate', 'get_exec_path', 'get_handle_inheritable', 'get_inheritable', 'get_terminal_size', 'getcwd', 'getcwdb', 'getenv', 'getlogin', 'getpid', 'getppid', 'isatty', 'kill', 'linesep', 'link', 'listdir', 'lseek', 'lstat', 'makedirs', 'mkdir', 'name', 'open', 'pardir', 'path', 'pathsep', 'pipe', 'popen', 'putenv', 'read', 'readlink', 'remove', 'removedirs', 'rename', 'renames', 'replace', 'rmdir', 'scandir', 'sep', 'set_handle_inheritable', 'set_inheritable', 'spawnl', 'spawnle', 'spawnv', 'spawnve', 'st', 'startfile', 'stat', 'stat_result', 'statvfs_result', 'strerror', 'supports_bytes_environ', 'supports_dir_fd', 'supports_effective_ids', 'supports_fd', 'supports_follow_symlinks', 'symlink', 'sys', 'system', 'terminal_size', 'times', 'times_result', 'truncate', 'umask', 'uname_result', 'unlink', 'unsetenv', 'urandom', 'utime', 'waitpid', 'waitstatus_to_exitcode', 'walk', 'write']\n",
      "156\n"
     ]
    }
   ],
   "source": [
    "import os\n",
    "\n",
    "print(dir(os))\n",
    "print(\"Total number of functions in os module = \",len(dir(os)))\n",
    "# os functions related to operating system\n",
    "# os.path # contains functions related to checking whether file/dir exists!\n",
    "# os.walk()\n",
    "# os.system()"
   ]
  },
  {
   "cell_type": "code",
   "execution_count": 28,
   "id": "3d2a97f5-177e-4356-9848-d81b76ed8f80",
   "metadata": {},
   "outputs": [
    {
     "name": "stdout",
     "output_type": "stream",
     "text": [
      "Your current working directory is c:\\Users\\Shree\n",
      "listing contents of the directory... ['.anaconda', '.astropy', '.atom', '.aws', '.bash_history', '.cache', '.conda', '.condarc', '.continuum', '.docker', '.dotnet', '.eclipse', '.gitconfig', '.idlerc', '.ipynb_checkpoints', '.ipython', '.jupyter', '.lesshst', '.matplotlib', '.ms-ad', '.p2', '.python_history', '.spyder-py3', '.ssh', '.viminfo', '.vscode', '3D Objects', 'anaconda3', 'AppData', 'Application Data', 'build', 'Contacts', 'Cookies', 'Day_1.ipynb', 'Day_10.ipynb', 'Day_12.ipynb', 'Day_2.ipynb', 'Day_3.ipynb', 'Day_4.ipynb', 'Day_5.ipynb', 'Day_6.ipynb', 'Day_7.ipynb', 'Day_8.ipynb', 'Day_9.ipynb', 'Desktop', 'dir1', 'disney_plus_titles.csv', 'dist', 'Documents', 'Downloads', 'eclipse', 'eclipse-workspace', 'Favorites', 'Intel', 'IntelGraphicsProfiles', 'Links', 'Local Settings', 'modules', 'Music', 'My Documents', 'mytestfile.txt', 'NetHood', 'NTUSER.DAT', 'ntuser.dat.LOG1', 'ntuser.dat.LOG2', 'NTUSER.DAT{09369055-356a-11ef-8fea-00216beacf76}.TM.blf', 'NTUSER.DAT{09369055-356a-11ef-8fea-00216beacf76}.TMContainer00000000000000000001.regtrans-ms', 'NTUSER.DAT{09369055-356a-11ef-8fea-00216beacf76}.TMContainer00000000000000000002.regtrans-ms', 'NTUSER.DAT{53b39e88-18c4-11ea-a811-000d3aa4692b}.TM.blf', 'NTUSER.DAT{53b39e88-18c4-11ea-a811-000d3aa4692b}.TMContainer00000000000000000001.regtrans-ms', 'NTUSER.DAT{53b39e88-18c4-11ea-a811-000d3aa4692b}.TMContainer00000000000000000002.regtrans-ms', 'NTUSER.DAT{b6df92cd-ac5d-11ef-9000-00216beacf76}.TM.blf', 'NTUSER.DAT{b6df92cd-ac5d-11ef-9000-00216beacf76}.TMContainer00000000000000000001.regtrans-ms', 'NTUSER.DAT{b6df92cd-ac5d-11ef-9000-00216beacf76}.TMContainer00000000000000000002.regtrans-ms', 'ntuser.ini', 'objects', 'OneDrive', 'Pictures', 'prashant', 'PrintHood', 'project', 'PycharmProjects', 'python_project', 'Recent', 'requirements.txt', 'sample_datasets', 'satish_project', 'Saved Games', 'Searches', 'SendTo', 'source', 'Start Menu', 'sunny', 'Templates', 'Videos']\n",
      "listing contents of the directory c:\\ ['$Recycle.Bin', '$WINDOWS.~BT', '$Windows.~WS', '$WinREAgent', 'bootTel.dat', 'Config.Msi', 'Documents and Settings', 'DumpStack.log', 'DumpStack.log.tmp', 'eclipse', 'ESD', 'FibocomLog', 'hiberfil.sys', 'Intel', 'MSOCache', 'mydirectory', 'OneDriveTemp', 'pagefile.sys', 'PerfLogs', 'Program Files', 'Program Files (x86)', 'ProgramData', 'Recovery', 'swapfile.sys', 'Symantec', 'System Volume Information', 'Users', 'Windows']\n",
      "Custom path is  c:\\Users\n",
      "listing contents of the directory c:\\Users ['All Users', 'Default', 'Default User', 'desktop.ini', 'Public', 'Shree']\n",
      "c:\\\n",
      "c:\\Users\\Shree\n",
      "Directory is already present!\n",
      "dir is already created!\n"
     ]
    }
   ],
   "source": [
    "import os\n",
    "\n",
    "print(\"Your current working directory is\",os.getcwd())\n",
    "print(\"listing contents of the directory...\",os.listdir())\n",
    "print(\"listing contents of the directory c:\\\\\",os.listdir(\"c:\\\\\"))\n",
    "drive=\"c:\\\\\"\n",
    "path=\"Users\"\n",
    "print(\"Custom path is \",os.path.join(drive,os.sep,path))\n",
    "print(\"listing contents of the directory c:\\\\Users\",os.listdir(os.path.join(drive,os.sep,path)))\n",
    "os.chdir(\"c:\\\\\")\n",
    "print(os.getcwd())\n",
    "os.chdir(\"c:\\\\Users\\\\Shree\")\n",
    "print(os.getcwd())\n",
    "if os.path.isdir(\"sunny\"):\n",
    "    print(\"Directory is already present!\")\n",
    "else:\n",
    "    os.mkdir(\"sunny\")\n",
    "if os.path.isdir(\"dir1\"):\n",
    "    print(\"dir is already created!\")\n",
    "else:\n",
    "    os.makedirs(\"dir1\\\\dir2\\\\dir3\\\\dir4\")\n",
    "os.rename(\"dir1\",\"nitin\")"
   ]
  },
  {
   "cell_type": "code",
   "execution_count": 21,
   "id": "ad6537e1-25c9-4e4f-80c1-73a37fbb9cb9",
   "metadata": {},
   "outputs": [
    {
     "name": "stdout",
     "output_type": "stream",
     "text": [
      "['_LCMAP_LOWERCASE', '_LCMapStringEx', '_LOCALE_NAME_INVARIANT', '__all__', '__builtins__', '__doc__', '__file__', '__loader__', '__name__', '__package__', '__spec__', '_abspath_fallback', '_get_bothseps', '_getfinalpathname', '_getfinalpathname_nonstrict', '_getfullpathname', '_getvolumepathname', '_nt_readlink', '_path_normpath', '_readlink_deep', 'abspath', 'altsep', 'basename', 'commonpath', 'commonprefix', 'curdir', 'defpath', 'devnull', 'dirname', 'exists', 'expanduser', 'expandvars', 'extsep', 'genericpath', 'getatime', 'getctime', 'getmtime', 'getsize', 'isabs', 'isdir', 'isfile', 'islink', 'ismount', 'join', 'lexists', 'normcase', 'normpath', 'os', 'pardir', 'pathsep', 'realpath', 'relpath', 'samefile', 'sameopenfile', 'samestat', 'sep', 'split', 'splitdrive', 'splitext', 'stat', 'supports_unicode_filenames', 'sys']\n"
     ]
    }
   ],
   "source": [
    "import os\n",
    "print(dir(os.path))"
   ]
  },
  {
   "cell_type": "code",
   "execution_count": 30,
   "id": "e9b879bc-62f2-4990-8e04-adf4d4981784",
   "metadata": {},
   "outputs": [
    {
     "name": "stdout",
     "output_type": "stream",
     "text": [
      "directory is not present!\n"
     ]
    }
   ],
   "source": [
    "import os\n",
    "try:\n",
    "    os.removedirs(\"dir1\\\\dir2\\\\dir3\\\\dir4\")\n",
    "except:\n",
    "    print(\"directory is not present!\")"
   ]
  },
  {
   "cell_type": "code",
   "execution_count": 31,
   "id": "5fcaee36-d39f-4110-98f8-eb9bea2a725e",
   "metadata": {},
   "outputs": [
    {
     "name": "stdout",
     "output_type": "stream",
     "text": [
      "['_Processor', '_WIN32_CLIENT_RELEASES', '_WIN32_SERVER_RELEASES', '__builtins__', '__cached__', '__copyright__', '__doc__', '__file__', '__loader__', '__name__', '__package__', '__spec__', '__version__', '_comparable_version', '_component_re', '_default_architecture', '_follow_symlinks', '_get_machine_win32', '_ironpython26_sys_version_parser', '_ironpython_sys_version_parser', '_java_getprop', '_libc_search', '_mac_ver_xml', '_node', '_norm_version', '_os_release_cache', '_os_release_candidates', '_os_release_line', '_os_release_unescape', '_parse_os_release', '_platform', '_platform_cache', '_pypy_sys_version_parser', '_sys_version', '_sys_version_cache', '_sys_version_parser', '_syscmd_file', '_syscmd_ver', '_uname_cache', '_unknown_as_blank', '_ver_output', '_ver_stages', 'architecture', 'collections', 'freedesktop_os_release', 'functools', 'itertools', 'java_ver', 'libc_ver', 'mac_ver', 'machine', 'node', 'os', 'platform', 'processor', 'python_branch', 'python_build', 'python_compiler', 'python_implementation', 'python_revision', 'python_version', 'python_version_tuple', 're', 'release', 'sys', 'system', 'system_alias', 'uname', 'uname_result', 'version', 'win32_edition', 'win32_is_iot', 'win32_ver']\n"
     ]
    }
   ],
   "source": [
    "import platform as pt\n",
    "\n",
    "print(dir(pt))"
   ]
  },
  {
   "cell_type": "code",
   "execution_count": 40,
   "id": "9e8f216c-54d4-4461-bfbf-f1c4d99a2c69",
   "metadata": {},
   "outputs": [
    {
     "name": "stdout",
     "output_type": "stream",
     "text": [
      "AMD64\n",
      "10\n",
      "('64bit', 'WindowsPE')\n",
      "Windows\n",
      "uname_result(system='Windows', node='VINSYSLT0196', release='10', version='10.0.19045', machine='AMD64')\n",
      "3.11.5\n",
      "Intel64 Family 6 Model 142 Stepping 9, GenuineIntel\n",
      "10.0.19045\n",
      "VINSYSLT0196\n"
     ]
    }
   ],
   "source": [
    "import platform as pt\n",
    "\n",
    "print(pt.machine())\n",
    "print(pt.release())\n",
    "print(pt.architecture())\n",
    "print(pt.system()) # to check the operating system\n",
    "print(pt.uname())\n",
    "print(pt.python_version())\n",
    "print(pt.processor())\n",
    "print(pt.version())\n",
    "print(pt.node()) # hostname "
   ]
  },
  {
   "cell_type": "code",
   "execution_count": 54,
   "id": "e0bb3dfc-ad58-430a-a16e-8bd49da91270",
   "metadata": {},
   "outputs": [
    {
     "name": "stdout",
     "output_type": "stream",
     "text": [
      "<generator object _walk at 0x0000021B23146E40>\n"
     ]
    },
    {
     "name": "stdin",
     "output_type": "stream",
     "text": [
      "Enter the folder name to perform walkthrough satish_project\n"
     ]
    },
    {
     "name": "stdout",
     "output_type": "stream",
     "text": [
      "satish_project \\ readme_project.txt\n",
      "satish_project\\database\\mysql \\ sqlconnect.txt\n",
      "satish_project\\database\\postgres \\ postgresconnect.txt\n",
      "satish_project\\ui \\ ui_readme.txt\n"
     ]
    }
   ],
   "source": [
    "import os\n",
    "\n",
    "# os.walk() is a generator function which returns path,dir,file recursively\n",
    "print(os.walk(\"satish_project\"))\n",
    "#print(list(os.walk(\"satish_project\")))\n",
    "\n",
    "dir_name=input(\"Enter the folder name to perform walkthrough\")\n",
    "\n",
    "for path1,folders,files in os.walk(dir_name):\n",
    "    #if any(folders):\n",
    "        #print(folders)\n",
    "     if any(files):\n",
    "        print(path1,os.sep,files[0])"
   ]
  },
  {
   "cell_type": "code",
   "execution_count": null,
   "id": "50affb2d-fb57-4e1b-8e81-e473383dbd15",
   "metadata": {},
   "outputs": [],
   "source": []
  }
 ],
 "metadata": {
  "kernelspec": {
   "display_name": "Python 3 (ipykernel)",
   "language": "python",
   "name": "python3"
  },
  "language_info": {
   "codemirror_mode": {
    "name": "ipython",
    "version": 3
   },
   "file_extension": ".py",
   "mimetype": "text/x-python",
   "name": "python",
   "nbconvert_exporter": "python",
   "pygments_lexer": "ipython3",
   "version": "3.11.5"
  }
 },
 "nbformat": 4,
 "nbformat_minor": 5
}
