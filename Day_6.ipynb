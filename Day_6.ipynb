{
 "cells": [
  {
   "cell_type": "code",
   "execution_count": null,
   "id": "a2fe4ca0-c31d-49c0-8683-6f99f316d633",
   "metadata": {},
   "outputs": [],
   "source": [
    "# control statements the way in which control flows in your program\n",
    "# 1. sequential\n",
    "# 2. conditional\n",
    "    #(a) branching (selection) if: else: elif: nested_if: \n",
    "    #(b) looping (iteration) while: for: \n",
    "# 3. unconditional break continue"
   ]
  },
  {
   "cell_type": "code",
   "execution_count": null,
   "id": "ab6b8b03-48c7-4b91-bece-c943d332e7de",
   "metadata": {},
   "outputs": [],
   "source": [
    "#if condition:\n",
    "#    pass\n",
    "# () == :\n",
    "# {} == indent/dedent code\n",
    "value=()\n",
    "print(type(value))\n",
    "value={}\n",
    "print(type(value))"
   ]
  },
  {
   "cell_type": "code",
   "execution_count": null,
   "id": "1a93a9b3-6911-4d6a-84be-99628e84a713",
   "metadata": {},
   "outputs": [],
   "source": [
    "var1,var2=200,100 # tuple unpacking using multiple var assingment\n",
    "\"\"\"\n",
    "if var1 > var2: # > < >= <= == != relational operators return bool\n",
    "    print(f\"{var1} is greater\")\n",
    "    print(\"tomtom\")\n",
    "else:\n",
    "    print(f\"{var2} is greater\")\n",
    "    print(\"pune\")\n",
    "\"\"\"\n",
    "print(\"Max is \",max(var1,var2))  # functional language"
   ]
  },
  {
   "cell_type": "code",
   "execution_count": null,
   "id": "23383060-8f9a-499b-ae1a-e42f85673e12",
   "metadata": {},
   "outputs": [],
   "source": [
    "var1,var2,var3=100,200,300 # tuple unpacking using multiple var assingment\n",
    "# logical operators and or not\n",
    "\"\"\"\n",
    "if var1 > var2 and var1 > var3:\n",
    "    print(f\"{var1} is greater\")\n",
    "elif  var2 > var1 and var2 > var3:\n",
    "    print(f\"{var2} is greater\")\n",
    "else:\n",
    "    print(f\"{var3} is greater\")\n",
    "\"\"\"\n",
    "print(\"Max is \",max(var1,var2,var3)) "
   ]
  },
  {
   "cell_type": "code",
   "execution_count": null,
   "id": "0a15f4dc-2a4c-4b63-a6a9-adbaf2125a18",
   "metadata": {},
   "outputs": [],
   "source": [
    "#print(print(\"hello\") and print(\"hi\"))\n",
    "#print(None or print(\"tomtom\"))\n",
    "# all() requires all the conditions to be True \n",
    "# any() requires one the conditions to be True\n",
    "# any(collection) and all(collection)\n",
    "values=[0,0.0,\"\",[],(),{},False]\n",
    "if any(values): \n",
    "    print(values)\n",
    "else:\n",
    "    print(\"Every value is evaluated to False\")"
   ]
  },
  {
   "cell_type": "code",
   "execution_count": null,
   "id": "f97a4548-d048-4ad2-b13f-ead67ea6384e",
   "metadata": {},
   "outputs": [],
   "source": [
    "if value==0 or value == 0.0 or value == \" \":\n",
    "    print(values)\n",
    "else:\n",
    "    print(\"Every value is evaluated to False\")"
   ]
  },
  {
   "cell_type": "code",
   "execution_count": null,
   "id": "ea686f12-7cfd-4f1d-9b66-f3a60244471b",
   "metadata": {},
   "outputs": [],
   "source": [
    "if 10 < 20 and 500 > 100 and 50>=50:\n",
    "    print(\"and requires all the conditions to be True\")\n",
    "if 10 > 20 or 500 < 100 or 50 == 50:\n",
    "    print(\"or requires one of the conditions to be True\")\n",
    "if all((10 < 20,500 > 100,50>=50)): # pythonic style use any(iterable) and all(iterable)\n",
    "    print(\"and requires all the conditions to be True\")\n",
    "if any([10 > 20,500 < 100,50 == 50]):\n",
    "    print(\"or requires one of the conditions to be True\")"
   ]
  },
  {
   "cell_type": "code",
   "execution_count": null,
   "id": "f0704171-25f3-404c-9a8c-46fdd0faa6f3",
   "metadata": {},
   "outputs": [],
   "source": [
    "var1,var2,var3=10,20,30\n",
    "if var1 > var2:\n",
    "    if var1 > var3:\n",
    "        print(f\"{var1} is greater\")\n",
    "    else:\n",
    "        print(f\"{var3} is greater\")\n",
    "else:\n",
    "    if var2 > var3:\n",
    "        print(f\"{var2} is greater\")\n",
    "    else:\n",
    "        print(f\"{var3} is greater\")"
   ]
  },
  {
   "cell_type": "code",
   "execution_count": null,
   "id": "1bac6046-c77f-423d-8fd9-485c2e962735",
   "metadata": {},
   "outputs": [],
   "source": [
    "# is and is not (identity operators)\n",
    "# in and not in (membership operators) "
   ]
  },
  {
   "cell_type": "code",
   "execution_count": null,
   "id": "3a771774-1f21-49d0-a54e-f83a2a4a6765",
   "metadata": {},
   "outputs": [],
   "source": [
    "emp_ids=[100,200]\n",
    "if type(emp_ids) is list: # is will check datatype not values!\n",
    "    print(\"you are using list\")\n",
    "else:\n",
    "    print(\"you are not using list for sure!\")"
   ]
  },
  {
   "cell_type": "code",
   "execution_count": null,
   "id": "98a76657-1a35-4394-8b63-a6fd3b00ff7e",
   "metadata": {},
   "outputs": [],
   "source": [
    "# in and not in (membership operators) \n",
    "# in will search for values in iterable (collection)\n",
    "users=[\"root\",\"admin\",\"administrator\"]\n",
    "username=input(\"Enter your username\")\n",
    "if username in users: # in (search iterable) and == (compare values)\n",
    "    print(\"you have full privileges\")\n",
    "else:\n",
    "    print(\"you have guest privileges\")"
   ]
  },
  {
   "cell_type": "code",
   "execution_count": null,
   "id": "b064f6be-79d1-4f27-9fcd-9ea7680443a9",
   "metadata": {},
   "outputs": [],
   "source": [
    "python_versions=[3.8,3.9,3.10,3.11,3.12,3.13]\n",
    "current_version=float(input(\"Enter your current version\"))\n",
    "if current_version in python_versions:\n",
    "    print(f\"You still have support for {current_version} python\")\n",
    "else:\n",
    "    print(f\"EOL for {current_version}\")"
   ]
  },
  {
   "cell_type": "code",
   "execution_count": null,
   "id": "a9811f98-7c5d-46d9-af0d-f1d401f86e8a",
   "metadata": {},
   "outputs": [],
   "source": [
    "count=1\n",
    "while count <=5:\n",
    "    print(count)\n",
    "    count+=1"
   ]
  },
  {
   "cell_type": "code",
   "execution_count": null,
   "id": "a31d3a0f-1195-479a-8bfb-89a8199e70b6",
   "metadata": {},
   "outputs": [],
   "source": [
    "fact=1\n",
    "num=eval(input(\"Enter the number\"))\n",
    "while num > 0:\n",
    "    fact*=num\n",
    "    num-=1\n",
    "print(f\"Factorial is {fact}\")"
   ]
  },
  {
   "cell_type": "code",
   "execution_count": null,
   "id": "847ef26f-9129-4613-978f-4bfa4e72b65a",
   "metadata": {},
   "outputs": [],
   "source": [
    "import math\n",
    "num=eval(input(\"Enter the number\"))\n",
    "print(math.factorial(num))"
   ]
  },
  {
   "cell_type": "code",
   "execution_count": 2,
   "id": "e02282f4-f1e2-42b0-ada1-c02ed970cb0e",
   "metadata": {},
   "outputs": [
    {
     "name": "stdin",
     "output_type": "stream",
     "text": [
      "Enter the number 4\n"
     ]
    },
    {
     "name": "stdout",
     "output_type": "stream",
     "text": [
      "4 is not prime\n"
     ]
    }
   ],
   "source": [
    "count=2\n",
    "num=eval(input(\"Enter the number\"))\n",
    "while count<num:\n",
    "    if num%count==0:\n",
    "        print(f\"{num} is not prime\")\n",
    "        break\n",
    "    count+=1\n",
    "if num==count:\n",
    "    print(f\"{num} is prime\")"
   ]
  },
  {
   "cell_type": "code",
   "execution_count": null,
   "id": "f6783ffd-a038-4717-8b3d-ba9ef5275b35",
   "metadata": {},
   "outputs": [],
   "source": [
    "# find type of triangle take side as input from user\n",
    "# print first 25 prime numbers\n",
    "# armstrong numbers (1*1*1)+(5*5*5)+(3*3*3)==153\n",
    "# take 5 marks input from user find average and display grade A(80-100) B(60-79) C(35-59) fail(<35)\n",
    "# Display electricity bill based on units consumed First 100 units Rs 5 Next 100 units Rs 10 above 200 units Rs 15"
   ]
  }
 ],
 "metadata": {
  "kernelspec": {
   "display_name": "Python 3 (ipykernel)",
   "language": "python",
   "name": "python3"
  },
  "language_info": {
   "codemirror_mode": {
    "name": "ipython",
    "version": 3
   },
   "file_extension": ".py",
   "mimetype": "text/x-python",
   "name": "python",
   "nbconvert_exporter": "python",
   "pygments_lexer": "ipython3",
   "version": "3.11.5"
  }
 },
 "nbformat": 4,
 "nbformat_minor": 5
}
