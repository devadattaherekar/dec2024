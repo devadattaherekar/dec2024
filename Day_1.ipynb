{
 "cells": [
  {
   "cell_type": "code",
   "execution_count": null,
   "id": "fa6f34f2-4acc-4c1f-a938-c1478e9c9f34",
   "metadata": {},
   "outputs": [],
   "source": [
    "print(\"Happy to create python program\")\n",
    "print(\"using jupyter notebook\")"
   ]
  },
  {
   "cell_type": "markdown",
   "id": "58715be2-be3c-4c36-b9f7-3c8aa7bb7f9b",
   "metadata": {},
   "source": [
    "Here value is reference and 100 is immutable object of int class\n",
    "\n",
    "immutable object means state of the object cannot be modified\n",
    "\n",
    "Any operation that you perform on immutable object will create a new object at new memory location\n",
    "\n",
    "Everything is an object in python (keywords, functions....)\n",
    "\n",
    "There are no builitin types. python has only user defined types i.e. objects!"
   ]
  },
  {
   "cell_type": "raw",
   "id": "f2744941-ce55-4c4c-9bcf-96d5a99d14e2",
   "metadata": {},
   "source": [
    "value=100\n",
    "print(value,type(value),id(value)) #id() gives address of the object # type() gives type of the object!\n",
    "value+=1 # Here += works on immutable object which creates a new object at new memory location\n",
    "print(value,type(value),id(value)) \n",
    "value=200\n",
    "print(value,type(value),id(value))\n",
    "newvalue=value # shallow copy (both references point to the same object i.e copy of the object is not created!)\n",
    "value=300\n",
    "print(newvalue,type(newvalue),id(newvalue))\n",
    "print(value,type(value),id(value))\n",
    "value=3.142 # immutale object of class float # There is no double type in python!\n",
    "print(value,type(value),id(value))\n",
    "value='T' # immutable object of class str\n",
    "print(value,type(value),id(value)) # There is no char type in python!\n",
    "value=\"Tomtom\" # immutable object of class str\n",
    "print(value,type(value),id(value))\n",
    "value=True # immutable object of bool class\n",
    "print(value,type(value),id(value))\n",
    "value=(10-5j) # immutable object of complex class\n",
    "print(value,type(value),id(value))\n",
    "value=None # immutable object of NoneType class\n",
    "print(value,type(value),id(value))\n",
    "print(type(type),type(id))"
   ]
  },
  {
   "cell_type": "code",
   "execution_count": null,
   "id": "9b7bf68c-de54-4507-bdbb-61cf441df096",
   "metadata": {},
   "outputs": [],
   "source": [
    "# formatting in python to display output\n",
    "# In python 2x was done using cstyle formatting uses format specifiers \n",
    "company=\"tomtom\"\n",
    "price=500.345\n",
    "shares=100\n",
    "print(\"Company=%s\\nPrice=%.2f\\nShares=%-20d\\n\"%(company,price,shares)) # Here , operator creates a tuple\n",
    "\n",
    "# In python 3.x str.format() was used for formatting\n",
    "print(\"Company={}\\nPrice={}\\nShares={}\\n\".format(company,price,shares)) \n",
    "# index for tuple or list always starts with 0\n",
    "print(\"Shares={2}\\nShares={2}\\nShares={2}\\nCompany={0}\\nCompany={0}\\nPrice={1}\\nShares={2}\\n\".format(company,price,shares)) \n",
    "\n",
    "# After python 3.6 use f-string for formatting!\n",
    "print(f\"Company={company}\\nCompany={company}\\nPrice={price}\\nShares={shares}\\n\") "
   ]
  },
  {
   "cell_type": "code",
   "execution_count": null,
   "id": "bbfbd9f1-8cc5-4b5a-9b8f-407bf2357345",
   "metadata": {},
   "outputs": [],
   "source": [
    "print(\"c:\\\\deva\")\n",
    "print(\"c:\\\\users\")\n",
    "print(r\"c:\\users\\n\") # use raw strings to take care of escape sequences while giving path"
   ]
  },
  {
   "cell_type": "code",
   "execution_count": null,
   "id": "9c594a7c-2e41-43bc-92c1-04bb10638857",
   "metadata": {},
   "outputs": [],
   "source": [
    "price=0.56789\n",
    "print(f\"Item price={price:{20}.{6}}\\n\") # {value:{width}.{precision}}\n",
    "print(f\"Price={price}\\n\")"
   ]
  },
  {
   "cell_type": "code",
   "execution_count": null,
   "id": "dfe7daed-45bd-408e-b51e-421e245f0e75",
   "metadata": {},
   "outputs": [],
   "source": [
    "pwd"
   ]
  },
  {
   "cell_type": "code",
   "execution_count": null,
   "id": "7457416f-8fd0-4792-9a09-d8eff3bd5840",
   "metadata": {},
   "outputs": [],
   "source": [
    "ls"
   ]
  },
  {
   "cell_type": "code",
   "execution_count": null,
   "id": "525b0ff3-74c8-4fba-a998-969b398887d6",
   "metadata": {},
   "outputs": [],
   "source": [
    "#fp=open(\"mytestfile.txt\",\"w\")\n",
    "#print(\"hello\",\"world\",\"tomtom\",\"india\",sep=\",\",end=\"\\t\",file=fp)\n",
    "#print(\"South africa\",\"Australia\")\n",
    "#fp.close()"
   ]
  }
 ],
 "metadata": {
  "kernelspec": {
   "display_name": "Python 3 (ipykernel)",
   "language": "python",
   "name": "python3"
  },
  "language_info": {
   "codemirror_mode": {
    "name": "ipython",
    "version": 3
   },
   "file_extension": ".py",
   "mimetype": "text/x-python",
   "name": "python",
   "nbconvert_exporter": "python",
   "pygments_lexer": "ipython3",
   "version": "3.11.5"
  }
 },
 "nbformat": 4,
 "nbformat_minor": 5
}
