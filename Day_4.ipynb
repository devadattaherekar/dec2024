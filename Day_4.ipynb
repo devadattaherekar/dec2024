{
 "cells": [
  {
   "cell_type": "code",
   "execution_count": null,
   "id": "18aad8e5-a0aa-44fb-88a1-ba724a2524de",
   "metadata": {},
   "outputs": [],
   "source": [
    "# What are collections / data structures \n",
    "# collections are temporary databases\n",
    "# list is mutable ordered collection of hetergeous elements\n",
    "# complexity is O(n) for insert/delete/search where n is size of list \n",
    "mylist=[\"sachin\",10,True,89.56,None,(10+4j)]\n",
    "print(type(mylist),id(mylist))\n",
    "print(mylist)\n",
    "print(mylist[0],type(mylist[0])) # use index slicing operator on list to unpack values\n",
    "print(mylist[1],type(mylist[1]))\n",
    "print(mylist[2],type(mylist[2]))\n",
    "print(mylist[-1])\n",
    "print(mylist[0:2])\n",
    "print(mylist[::2])\n",
    "print(mylist[::-1]) # [start:next_to_last:step_count]"
   ]
  },
  {
   "cell_type": "code",
   "execution_count": null,
   "id": "3f02320f-7f8a-4745-a1b3-f9017acb71d3",
   "metadata": {},
   "outputs": [],
   "source": [
    "# CRUD operations i.e. Create Read Update Delete\n",
    "banks=[\"sbi\",\"icici\",\"kotak\"]\n",
    "print(banks,id(banks))\n",
    "print(dir(list))\n",
    "banks.insert(1,\"axis\") # pass the position of the element and object to insert\n",
    "print(banks,id(banks))\n",
    "banks.append(\"dena bank\") # add element at the end\n",
    "print(banks,id(banks))\n",
    "mybanks=[\"bob\",\"dueushe bank\",\"kotak\"]\n",
    "banks.extend(mybanks) # merge elements of one collection into another\n",
    "print(banks,id(banks))\n",
    "print(\"Total number of banks\",len(banks))\n",
    "print(f'kotak occurs {banks.count(\"kotak\")} times')\n",
    "banks.reverse()\n",
    "print(banks,id(banks))\n",
    "banks.sort()\n",
    "print(banks,id(banks))\n",
    "banks.sort(reverse=True)\n",
    "print(banks,id(banks))\n",
    "#banks.find(\"sbi\") # There is no find() # AttributeError\n",
    "print(\"Position of axis is \",banks.index(\"axis\"))\n",
    "print(\"Position of kotak is \",banks.index(\"kotak\"))\n",
    "print(\"Position of next kotak is \",banks.index(\"kotak\",2)) # start position to locate the index\n",
    "#newbanks=banks # shallow copy is copy to reference into another reference # both ref point the same obj\n",
    "newbanks=banks.copy() # deep copy creates a new object at a new memory location\n",
    "print(newbanks,id(banks),id(newbanks))\n",
    "newbanks.clear()\n",
    "print(newbanks,banks,id(banks),id(newbanks))\n",
    "banks[0]=\"state bank\" # update using index operator. There is no update method in list!\n",
    "# previous string gets garbage collected\n",
    "print(banks)\n",
    "print(\"Poped bank is \",banks.pop()) # default index is -1 and will remove last element from list\n",
    "print(banks)\n",
    "print(\"Poped bank is \",banks.pop(1)) # pop the element with index and return the value\n",
    "print(banks)\n",
    "banks.remove('dena bank') # return type of remove is None\n",
    "print(banks)\n",
    "del banks[2] # use del to delete a value from list\n",
    "print(banks)\n",
    "#del banks # delete the whole collection\n",
    "#print(banks) # NameError if you use the reference"
   ]
  },
  {
   "cell_type": "code",
   "execution_count": null,
   "id": "09705d70-471d-48bc-aae5-542a891f1d38",
   "metadata": {},
   "outputs": [],
   "source": [
    "list1=[10,20,30]\n",
    "list2=[40,50]\n",
    "list1.append(list2) # create collection of collection\n",
    "print(list1)\n",
    "list1.extend(list2) # merge elements of one collection into another collection\n",
    "print(list1)"
   ]
  },
  {
   "cell_type": "code",
   "execution_count": null,
   "id": "e1eefea2-a629-49d1-880f-988169c7dc02",
   "metadata": {},
   "outputs": [],
   "source": [
    "# tuple is immutable (readonly) ordered collection of hetergeous elements\n",
    "# complexity is O(n) for search where n is size of list\n",
    "# use () to create a tuple # you cannot perform update/delete/insert operations on tuple\n",
    "bse=(\"tomtom\",5000,1234.56)\n",
    "print(type(bse),bse)\n",
    "# use [] to unpack few values from a list of many values\n",
    "print(\"company is \",bse[0]) # use [] to unpack values from tuple\n",
    "print(\"shares is \",bse[1])\n",
    "print(\"price is \",bse[2])\n",
    "print(\"reveresed elements of tuple\",bse[::-1])\n",
    "#del bse[0] #TypeError: 'tuple' object doesn't support item deletion\n",
    "#bse[0]=\"TOMTOM\" #TypeError: 'tuple' object does not support item assignment\n",
    "#print(dir(tuple))\n",
    "# use if number of values are less to unpack as it increases readability of code\n",
    "company,shares,price=bse # use multiple variable assingment to unpack tuple\n",
    "print(type(bse),type(company),type(shares),type(price))\n",
    "print(f\"company is {company}\\nshares is {shares}\\nprice is {price}\\n\")\n",
    "nse=bse # shallow copy is allowed as only one object is created\n",
    "print(nse,id(bse),id(nse))"
   ]
  },
  {
   "cell_type": "code",
   "execution_count": null,
   "id": "759c5ba0-9afb-4410-9168-831e730d10af",
   "metadata": {},
   "outputs": [],
   "source": [
    "banks=(\"sbi\",\"icici\",\"kotak\",\"sbi\",\"axis\",\"sbi\")\n",
    "print(\"sbi occurs\",banks.count(\"sbi\"))\n",
    "print(\"sbi is at\",banks.index(\"sbi\"))\n",
    "print(\"sbi is at\",banks.index(\"sbi\",1))"
   ]
  },
  {
   "cell_type": "code",
   "execution_count": null,
   "id": "0a4406d1-8971-4ccd-9ad7-f23b62bef1a5",
   "metadata": {},
   "outputs": [],
   "source": [
    "print(dir(tuple))"
   ]
  },
  {
   "cell_type": "code",
   "execution_count": null,
   "id": "5b9cefb9-acb4-4e56-b3c7-20f578341e40",
   "metadata": {},
   "outputs": [],
   "source": [
    "# database as well as records both can be modified or updated\n",
    "# all operations create/read/update/delete possible\n",
    "sensex=[\n",
    "            [\"accenture\",100,599.45],\n",
    "            [\"ibm\",200,789.45],\n",
    "            [\"wipro\",300,1234.56],\n",
    "            [\"tomtom\",400,7812.45]\n",
    "]\n",
    "print(sensex)\n",
    "print(\"Total number of records\",len(sensex))\n",
    "print(\"Record number 3 is \",sensex[2])\n",
    "print(\"Last record is \",sensex[-1])\n",
    "print(\"second and third record is\",sensex[1:3])\n",
    "print(\"Price of IBM is \",sensex[1][-1],sensex[1][2])\n",
    "sensex.insert(1,[\"infosys\",145,7894.2])\n",
    "sensex.append([\"vodafone\",645,5824.2])\n",
    "del sensex[2]\n",
    "print(sensex)\n",
    "sensex.pop(2)\n",
    "sensex.remove(['vodafone', 645, 5824.2]) # delete\n",
    "sensex[2][0]=\"TOMTOM\" # update\n",
    "print(sensex)"
   ]
  },
  {
   "cell_type": "code",
   "execution_count": null,
   "id": "664d424b-5f90-4b90-9173-8c3dacfc94a6",
   "metadata": {},
   "outputs": [],
   "source": [
    "# database is readonly and records are also readonly!\n",
    "sensex=(\n",
    "           (\"accenture\",100,599.45),\n",
    "           (\"ibm\",200,789.45),\n",
    "           (\"wipro\",300,1234.56),\n",
    "           (\"tomtom\",400,7812.45)\n",
    ")\n",
    "print(sensex)"
   ]
  },
  {
   "cell_type": "code",
   "execution_count": null,
   "id": "dd8b9ac4-0389-4b2a-98db-6ec4305c28fe",
   "metadata": {},
   "outputs": [],
   "source": [
    "# records are readonly but database can be modified\n",
    "sensex=[\n",
    "           (\"accenture\",100,599.45),\n",
    "           (\"ibm\",200,789.45),\n",
    "           (\"wipro\",300,1234.56),\n",
    "           (\"tomtom\",400,7812.45)\n",
    "]\n",
    "sensex.insert(1,(\"infosys\",145,7894.2))\n",
    "sensex.append((\"vodafone\",645,5824.2))\n",
    "del sensex[2]\n",
    "print(sensex)\n",
    "sensex.pop(2)\n",
    "#sensex[2][0]=\"TOMTOM\" #TypeError: 'tuple' object does not support item assignment\n",
    "sensex.sort(reverse=True)\n",
    "print(sensex)"
   ]
  },
  {
   "cell_type": "code",
   "execution_count": null,
   "id": "255638f9-3706-4738-9a7e-4b8676b097c5",
   "metadata": {},
   "outputs": [],
   "source": [
    "sensex=(\n",
    "           [\"accenture\",100,599.45],\n",
    "           [\"ibm\",200,789.45],\n",
    "           [\"wipro\",300,1234.56],\n",
    "           [\"tomtom\",400,7812.45]\n",
    ")\n",
    "sensex[0][0]=\"High performance delivered\" # update work\n",
    "del sensex[-1][-1] # 7812.45 gets deleted from last record\n",
    "sensex[-1].insert(1,99999)\n",
    "print(sensex)"
   ]
  },
  {
   "cell_type": "code",
   "execution_count": null,
   "id": "973342a3-522f-4fda-8423-e2a5bca4f6d3",
   "metadata": {},
   "outputs": [],
   "source": [
    "mydict={}\n",
    "print(type(mydict))"
   ]
  },
  {
   "cell_type": "code",
   "execution_count": null,
   "id": "0962d23d-3f5f-4ed4-9eb9-52e07c2f300a",
   "metadata": {},
   "outputs": [],
   "source": [
    "value=10\n",
    "print(type(value))\n",
    "value=[10]\n",
    "print(type(value))\n",
    "value=()\n",
    "print(type(value))\n",
    "value=(10) # int \n",
    "print(type(value))\n",
    "value=10,20 # comma operator creates a tuple using () is optional for tuple!\n",
    "print(type(value))\n",
    "value=(10,) # tuple with one element\n",
    "print(type(value))\n",
    "value={}\n",
    "print(type(value)) # dict\n",
    "value={10}\n",
    "print(type(value)) # set\n",
    "value={10:\"sachin\"}\n",
    "print(type(value)) # dict"
   ]
  },
  {
   "cell_type": "code",
   "execution_count": null,
   "id": "9a4daada-11a5-4aef-b6a9-77f303cd6307",
   "metadata": {},
   "outputs": [],
   "source": []
  }
 ],
 "metadata": {
  "kernelspec": {
   "display_name": "Python 3 (ipykernel)",
   "language": "python",
   "name": "python3"
  },
  "language_info": {
   "codemirror_mode": {
    "name": "ipython",
    "version": 3
   },
   "file_extension": ".py",
   "mimetype": "text/x-python",
   "name": "python",
   "nbconvert_exporter": "python",
   "pygments_lexer": "ipython3",
   "version": "3.11.5"
  }
 },
 "nbformat": 4,
 "nbformat_minor": 5
}
