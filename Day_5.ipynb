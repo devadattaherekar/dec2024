{
 "cells": [
  {
   "cell_type": "code",
   "execution_count": null,
   "id": "87ee24ba-6664-4c0e-b0e2-60c1d0e384b8",
   "metadata": {},
   "outputs": [],
   "source": [
    "# dict is mutable collection of key value pairs\n",
    "# insert/search/delete complexity is 0(1) constant time\n",
    "# key and values both can be of any type / keys cannot not be a collection but values can be \n",
    "cricketers={10:\"sachin\",99:\"sehwag\",45:\"rohit\"}\n",
    "print(cricketers)\n",
    "print(cricketers.get(10)) # read operation in dict\n",
    "print(cricketers.get(333,\"Key is not present in dict\")) # returns None is key is not present\n",
    "print(cricketers[10]) # use key to print value\n",
    "try:\n",
    "    print(cricketers[0]) # KeyError: 0\n",
    "except:\n",
    "    print(\"Key absent!!!\")\n",
    "#mycricketers=cricketers # shallow copy\n",
    "mycricketers=cricketers.copy() # deep copy new object at new location gets created!\n",
    "mycricketers.clear()\n",
    "print(mycricketers,cricketers)"
   ]
  },
  {
   "cell_type": "code",
   "execution_count": null,
   "id": "29ee438b-23fb-4837-b396-a2b4ce5b1ab8",
   "metadata": {},
   "outputs": [],
   "source": [
    "print(dir(dict))"
   ]
  },
  {
   "cell_type": "code",
   "execution_count": null,
   "id": "ec7809d5-950e-4380-99a5-5eda4c14e488",
   "metadata": {},
   "outputs": [],
   "source": [
    "print(help(dict.get))"
   ]
  },
  {
   "cell_type": "code",
   "execution_count": null,
   "id": "38ed0d77-af8b-4676-b1ab-af8dabf2ef33",
   "metadata": {},
   "outputs": [],
   "source": [
    "print(dir(str))"
   ]
  },
  {
   "cell_type": "code",
   "execution_count": null,
   "id": "2f4fc60d-70ac-43b6-bdd1-6227e9bee20e",
   "metadata": {},
   "outputs": [],
   "source": [
    "mydict={(10+3j):\"tomtom\",\"mastercard\":True,None:56.7,\"ibm\":[10,20]}\n",
    "print(mydict)"
   ]
  },
  {
   "cell_type": "code",
   "execution_count": null,
   "id": "1e49ad22-8c23-4f03-aa97-93f641309315",
   "metadata": {},
   "outputs": [],
   "source": [
    "cricketers={10:\"sachin\",99:\"sehwag\",45:\"rohit\"}\n",
    "cricketers[17]=\"rishab\" # Note: To add element put a key and corresponding value\n",
    "cricketers[18]=\"virat\" # Note: There is no add/insert/append/extend in dictionary bez it is unordered collection\n",
    "print(cricketers)\n",
    "cricketers[99]=\"gayle\" # If the key is already present then the value gets updated!\n",
    "cricketers[333]=\"gayle\" \n",
    "print(cricketers)\n",
    "dream11={7:\"dhoni\",23:\"warne\"}\n",
    "cricketers.update(dream11) # add elements of one dict into another!\n",
    "print(cricketers)\n",
    "print(\"keys return list of only keys \",cricketers.keys())\n",
    "print(\"values return list of only values \",cricketers.values())\n",
    "print(\"items return list of tuples with key/value pairs\") #[(key1,value1),(key2,value2)...]\n",
    "print(cricketers.items())\n",
    "print(\"Poped value is \",cricketers.pop(333))\n",
    "print(\"Poped value is \",cricketers.pop(999,\"Key is not present!\"))\n",
    "try:\n",
    "    cricketers.pop(999)\n",
    "except:\n",
    "    print(\"Key is absent. pLease check!\")\n",
    "print(cricketers)\n",
    "print(\"Value poped is \",cricketers.popitem())\n",
    "print(cricketers)"
   ]
  },
  {
   "cell_type": "code",
   "execution_count": null,
   "id": "f350e954-26d6-4e15-b79b-e5d827f2b7c2",
   "metadata": {},
   "outputs": [],
   "source": [
    "jersey=[10,7,17]\n",
    "dream11=dict.fromkeys(jersey)\n",
    "print(dream11)\n",
    "dream11=dict.fromkeys(jersey,\"playing 11 yet to be declared!\")\n",
    "print(dream11)\n",
    "dream11[7]=\"dhoni\"\n",
    "dream11[17]=\"rishabh\"\n",
    "dream11[10]=\"sachin\"\n",
    "dream11.setdefault(8,\"jadeja\")\n",
    "print(f'{dream11.setdefault(8,\"ravindra\")} is already present!')\n",
    "print(dream11)"
   ]
  },
  {
   "cell_type": "code",
   "execution_count": null,
   "id": "47d5a5a7-28a7-4871-bbfa-c47c460651fd",
   "metadata": {},
   "outputs": [],
   "source": [
    "sensex={\n",
    "    \"tomtom\":{\"current\":1000,\"high\":1500,\"low\":500},\n",
    "    \"renishaw\":{\"current\":999,\"high\":1200,\"low\":800},\n",
    "    \"olectra\":{\"current\":1500,\"high\":2000,\"low\":1200},\n",
    "    \"sunpharma\":{\"current\":6000,\"high\":6050,\"low\":5999},\n",
    "    \"ibm\":[(\"current\",1234),(\"high\",5678),(\"low\",899)]\n",
    "}\n",
    "print(\"sensex\",sensex) # type dict\n",
    "print(\"Sensex of tomtom is \",sensex[\"tomtom\"]) # type dict\n",
    "print(\"Sensex of ibm is \",sensex[\"ibm\"]) # type list\n",
    "print(\"high of ibm is \",sensex[\"ibm\"][1])  # type tuple\n",
    "print(\"high of ibm is \",sensex[\"ibm\"][0][1]) # First parse dict/then list/then tuple to get value which is int object\n",
    "print(\"High price of olectra is \",sensex[\"olectra\"][\"high\"])\n",
    "print(\"current price of olectra is \",sensex[\"olectra\"][\"current\"])"
   ]
  },
  {
   "cell_type": "code",
   "execution_count": null,
   "id": "1bab814b-8027-4b77-ac36-727e0258d1f8",
   "metadata": {},
   "outputs": [],
   "source": [
    "# set is unordered mutable collection of unique heterogeous elements\n",
    "# set is mutable but you can only add immutable objects in set\n",
    "# set can contain (int/float/bool/str/complex/None/tuple)\n",
    "# set cannot contain duplicate values and mutable objects e.g. list/dict/set are also not allowed!\n",
    "# duplicates are simply ignored but not an error!"
   ]
  },
  {
   "cell_type": "code",
   "execution_count": null,
   "id": "5789388a-9737-4371-acf4-eed21bb3eda1",
   "metadata": {},
   "outputs": [],
   "source": [
    "myset=set()\n",
    "print(type(myset))\n",
    "myset={10,4.5,True,\"tomtom\",(4+5j),None,(1,2,3),\"tomtom\",\"tomtom\",\"tomtom\"}\n",
    "print(type(myset),myset)"
   ]
  },
  {
   "cell_type": "code",
   "execution_count": 4,
   "id": "974a322d-765e-4170-80a1-b7858a4cb60f",
   "metadata": {},
   "outputs": [
    {
     "name": "stdout",
     "output_type": "stream",
     "text": [
      "['__and__', '__class__', '__class_getitem__', '__contains__', '__delattr__', '__dir__', '__doc__', '__eq__', '__format__', '__ge__', '__getattribute__', '__getstate__', '__gt__', '__hash__', '__iand__', '__init__', '__init_subclass__', '__ior__', '__isub__', '__iter__', '__ixor__', '__le__', '__len__', '__lt__', '__ne__', '__new__', '__or__', '__rand__', '__reduce__', '__reduce_ex__', '__repr__', '__ror__', '__rsub__', '__rxor__', '__setattr__', '__sizeof__', '__str__', '__sub__', '__subclasshook__', '__xor__', 'add', 'clear', 'copy', 'difference', 'difference_update', 'discard', 'intersection', 'intersection_update', 'isdisjoint', 'issubset', 'issuperset', 'pop', 'remove', 'symmetric_difference', 'symmetric_difference_update', 'union', 'update']\n"
     ]
    }
   ],
   "source": [
    "print(dir(set))"
   ]
  },
  {
   "cell_type": "code",
   "execution_count": 5,
   "id": "0e730886-4ba6-4939-830d-59cfdb49744f",
   "metadata": {},
   "outputs": [
    {
     "name": "stdout",
     "output_type": "stream",
     "text": [
      "{'infosys', 'wipro', 'tcs', 'tata technologies', 'tomtom', 'tieto'} 2478193325472\n",
      "{('cts',), 'tata technologies', 'infosys', 'accenture', 'tomtom', 'tieto', 'wipro', 'tcs', 'nice', 'cts'} 2478193325472\n",
      "{('cts',), 'tata technologies', 'accenture', 'tomtom', 'tieto', 'infosys', 'wipro', 'tcs', 'nice', 'cts'} 2478193325472 2478193323456\n",
      "Poped company is  ('cts',)\n",
      "{'accenture', 'tomtom', 'tieto', 'infosys', 'wipro', 'tcs', 'nice'}\n",
      "{'accenture', 'tomtom', 'tieto', 'tech', 'infosys', 'wipro', 'tcs', 'nice', 'itek'}\n"
     ]
    }
   ],
   "source": [
    "companies={\"tomtom\",\"wipro\",\"infosys\",\"tcs\",\"tata technologies\",\"tieto\"}\n",
    "print(companies,id(companies))\n",
    "companies.add(\"accenture\")\n",
    "companies.add(\"nice\")\n",
    "companies.add(\"cts\")\n",
    "companies.add(\"cts\")\n",
    "companies.add((\"cts\",))\n",
    "print(companies,id(companies))\n",
    "mycompanies=companies.copy()\n",
    "companies.clear()\n",
    "print(mycompanies,id(companies),id(mycompanies))\n",
    "print(\"Poped company is \",mycompanies.pop())\n",
    "mycompanies.remove('tata technologies')\n",
    "mycompanies.remove('cts')\n",
    "print(mycompanies)\n",
    "newcompanies={\"itek\",\"tech\"}\n",
    "mycompanies.update(newcompanies)\n",
    "print(mycompanies)"
   ]
  },
  {
   "cell_type": "code",
   "execution_count": 15,
   "id": "f1c0fe9a-9c40-4fc6-b104-5ef8e8123637",
   "metadata": {},
   "outputs": [
    {
     "name": "stdout",
     "output_type": "stream",
     "text": [
      "True\n",
      "False\n",
      "True\n",
      "All cricketers are {'marsh', 'sarfaraj', 'patcummins', 'klrahul', 'stonis', 'travis head', 'bumrah', 'jadeja', 'virat', 'siraj'}\n",
      "True\n",
      "Indian batters are {'klrahul', 'virat', 'sarfaraj'}\n",
      "Indian bowlers and allrounders are {'siraj', 'bumrah', 'jadeja'}\n",
      "uncommon values from both sets {'marsh', 'stonis', 'travis head', 'bumrah', 'jadeja', 'siraj'}\n"
     ]
    }
   ],
   "source": [
    "indian={\"virat\",\"bumrah\",\"siraj\",\"jadeja\",\"klrahul\",\"sarfaraj\"}\n",
    "batters={\"sarfaraj\",\"klrahul\",\"virat\",\"travis head\",\"stonis\",\"marsh\"}\n",
    "australia={\"patcummins\",\"stonis\",\"travis head\",\"marsh\"}\n",
    "cricketers={\"patcummins\",\"stonis\",\"travis head\",\"marsh\",\"virat\",\"bumrah\",\"siraj\",\"jadeja\",\"klrahul\",\"sarfaraj\"}\n",
    "print(indian.isdisjoint(australia))\n",
    "print(batters.issubset(indian))\n",
    "print(cricketers.issuperset(indian))\n",
    "print(\"All cricketers are\",indian.union(australia))\n",
    "print(indian.union(australia)==cricketers)\n",
    "print(\"Indian batters are\",indian.intersection(batters))\n",
    "print(\"Indian bowlers and allrounders are\",indian.difference(batters))\n",
    "print(\"uncommon values from both sets\",indian.symmetric_difference(batters))"
   ]
  },
  {
   "cell_type": "code",
   "execution_count": 17,
   "id": "01c5a14b-2339-4047-b20d-02d30c652dcd",
   "metadata": {},
   "outputs": [
    {
     "name": "stdout",
     "output_type": "stream",
     "text": [
      "['virat', 'bumrah', 'siraj', 'jadeja', 'klrahul', 'sarfaraj', 'virat', 'virat']\n",
      "{'sarfaraj', 'klrahul', 'bumrah', 'jadeja', 'virat', 'siraj'}\n"
     ]
    }
   ],
   "source": [
    "indian=[\"virat\",\"bumrah\",\"siraj\",\"jadeja\",\"klrahul\",\"sarfaraj\",\"virat\",\"virat\"]\n",
    "print(indian)\n",
    "print(set(indian))"
   ]
  },
  {
   "cell_type": "code",
   "execution_count": 15,
   "id": "2d729e6b-77cf-473d-a849-1b1c0fec2fdd",
   "metadata": {},
   "outputs": [
    {
     "name": "stdout",
     "output_type": "stream",
     "text": [
      "([10, 20], (30, 40), {'tomtom': 'pune'}, {'india'})\n",
      "[10, 20]\n",
      "10\n",
      "pune\n",
      "{'india'}\n",
      "([100, 200], (30, 40), {'tomtom': 'pune'}, {'india'})\n",
      "([200], (30, 40), {'tomtom': 'pune'}, {'india'})\n",
      "([200], (30, 40), {'tomtom': 'pune', 'ibm': 'bangalore'}, {'india'})\n",
      "([200], (30, 40), {'tomtom': 'pune', 'ibm': 'bangalore'}, {'india', 'australia'})\n"
     ]
    }
   ],
   "source": [
    "mytuple=([10,20],(30,40),{\"tomtom\":\"pune\"},{\"india\"})\n",
    "print(mytuple)\n",
    "print(mytuple[0])\n",
    "print(mytuple[0][0])\n",
    "print(mytuple[2][\"tomtom\"])\n",
    "print(mytuple[3])\n",
    "mytuple[0][0]=100\n",
    "mytuple[0][1]=200\n",
    "print(mytuple)\n",
    "del mytuple[0][0]\n",
    "print(mytuple)\n",
    "mytuple[2]['ibm']=\"bangalore\"\n",
    "print(mytuple)\n",
    "mytuple[3].add(\"australia\")\n",
    "print(mytuple)"
   ]
  },
  {
   "cell_type": "code",
   "execution_count": null,
   "id": "e70cca31-3ef7-4f1a-8293-9d9b59d684b8",
   "metadata": {},
   "outputs": [],
   "source": []
  }
 ],
 "metadata": {
  "kernelspec": {
   "display_name": "Python 3 (ipykernel)",
   "language": "python",
   "name": "python3"
  },
  "language_info": {
   "codemirror_mode": {
    "name": "ipython",
    "version": 3
   },
   "file_extension": ".py",
   "mimetype": "text/x-python",
   "name": "python",
   "nbconvert_exporter": "python",
   "pygments_lexer": "ipython3",
   "version": "3.11.5"
  }
 },
 "nbformat": 4,
 "nbformat_minor": 5
}
