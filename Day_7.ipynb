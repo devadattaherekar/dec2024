{
 "cells": [
  {
   "cell_type": "code",
   "execution_count": null,
   "id": "4e2cd2d8-a4e1-4460-95d2-aa5c86c5996d",
   "metadata": {},
   "outputs": [],
   "source": [
    "list1=[10,20,30]\n",
    "print(list1)\n",
    "print(list1[0],list1[1],list1[2]) # unpack using index operator\n",
    "var1,var2,var3=list1 # unpack using multiple variable assingment\n",
    "print(var1,var2,var3)\n",
    "for item in list1: # unpack using for loop\n",
    "    print(item,end=\" \")"
   ]
  },
  {
   "cell_type": "code",
   "execution_count": null,
   "id": "7534615c-4d23-4b5c-90ea-f40ed192d07f",
   "metadata": {},
   "outputs": [],
   "source": [
    "companies=(\"tomtom\",\"vinsys\",\"mastercard\")\n",
    "for company in companies:\n",
    "    print(company,end=\" \")"
   ]
  },
  {
   "cell_type": "code",
   "execution_count": null,
   "id": "7057f93e-6bef-469b-b74e-d9e76f2019a2",
   "metadata": {},
   "outputs": [],
   "source": [
    "cricketers={\"virat\",\"rohit\",\"bumrah\",\"shami\"}\n",
    "for player in cricketers:\n",
    "    print(player,end=\" \")"
   ]
  },
  {
   "cell_type": "code",
   "execution_count": null,
   "id": "7253e48c-8668-4a08-8e4e-d96ad06d4650",
   "metadata": {},
   "outputs": [],
   "source": [
    "india={\"maharashtra\":\"mumbai\",\"karnataka\":\"bengaluru\",\"tamilnadu\":\"chennai\"}\n",
    "print(india,type(india))\n",
    "for state in india:\n",
    "    print(state,end=\" \")\n",
    "print(\" \")\n",
    "for state in india:\n",
    "    print(india[state],end=\" \")\n",
    "print(\" \")\n",
    "for state in india:\n",
    "    print(f\"{india.get(state)}is in {state}\")\n",
    "print(\" \")\n",
    "#print(india.keys())    \n",
    "for state in india.keys(): # keys() method returns list of only keys\n",
    "    print(state,end=\" \")\n",
    "print(\" \")\n",
    "for capitals in india.values(): # values() returns list of only values\n",
    "    print(capitals,end=\" \")\n",
    "print(\" \")\n",
    "for state,capital in india.items(): # items() will return list of tuples [(key1,value1)...]\n",
    "    print(f\"{capital} is in {state}\") # for unpacks list and multiple var assingment unpacks tuple\n",
    "print(\" \")\n",
    "for state in india.items(): # data type of state is tuple \n",
    "    print(f\"{state[1]} is in {state[0]}\") # use [] to unpack tuple\n",
    "print(\" \")"
   ]
  },
  {
   "cell_type": "code",
   "execution_count": null,
   "id": "05827733-ad6f-404c-8691-28d59ab3572c",
   "metadata": {},
   "outputs": [],
   "source": [
    "# range is a builtin generator \n",
    "# generator is a function which generates value only when called\n",
    "# generator will always remember its state\n",
    "# generator will not store values like iterables. so are lightweight\n",
    "# There are 3 ways to access values from a generator\n",
    "# 1. To check values use conversion functions\n",
    "# 2. use for loop to access all values from a generator\n",
    "# 3. use iterator i.e. next() to access one value everytime from a generator\n",
    "print(range(5))"
   ]
  },
  {
   "cell_type": "code",
   "execution_count": null,
   "id": "ca3ae953-fc2e-4280-8d20-e53d58fb4f63",
   "metadata": {},
   "outputs": [],
   "source": [
    "print(list(range(5))) # use list conversion function to store values into list\n",
    "print(list(range(1,6))) # Here 6 is not included (0,next_to_last,step_count)\n",
    "print(list(range(1,11,1)))\n",
    "print(list(range(10,51,5)))"
   ]
  },
  {
   "cell_type": "code",
   "execution_count": null,
   "id": "10d0d475-9348-4732-8611-8c04cbf2485e",
   "metadata": {},
   "outputs": [],
   "source": [
    "print(tuple(range(5))) # use list conversion function to store values into list\n",
    "print(tuple(range(1,6))) # Here 6 is not included (0,next_to_last,step_count)\n",
    "print(tuple(range(1,11,1)))\n",
    "print(tuple(range(10,51,5)))"
   ]
  },
  {
   "cell_type": "code",
   "execution_count": null,
   "id": "c850cb61-ac30-4c89-9fc6-ca86fea03bb6",
   "metadata": {},
   "outputs": [],
   "source": [
    "print(set(range(5))) # use list conversion function to store values into list\n",
    "print(set(range(1,6))) # Here 6 is not included (0,next_to_last,step_count)\n",
    "print(set(range(1,11,1)))\n",
    "print(set(range(10,51,5)))"
   ]
  },
  {
   "cell_type": "code",
   "execution_count": null,
   "id": "1118e125-5aae-45de-bb2d-bc397e90b9a9",
   "metadata": {},
   "outputs": [],
   "source": [
    "# print(dict(range(5))) # cannot use dict conversion function on range()\n",
    "# dict requires keys to store values"
   ]
  },
  {
   "cell_type": "code",
   "execution_count": null,
   "id": "3f04ade0-67c4-42ba-a7b9-46ec614639e1",
   "metadata": {},
   "outputs": [],
   "source": [
    "numbers=[10,20,30,40,50]\n",
    "print(numbers)\n",
    "for value in numbers:\n",
    "    print(value,end=\" \")"
   ]
  },
  {
   "cell_type": "code",
   "execution_count": null,
   "id": "704d88d0-998c-4f16-abd2-ce729265f270",
   "metadata": {},
   "outputs": [],
   "source": [
    "# 2. use for loop on range generator to access all values from a generator\n",
    "print(range(10,51,10))\n",
    "for value in range(10,51,10):\n",
    "    print(value,end=\" \")"
   ]
  },
  {
   "cell_type": "code",
   "execution_count": null,
   "id": "f4bbc3a4-acb9-4fdd-b2f4-9b64be7819b5",
   "metadata": {},
   "outputs": [],
   "source": [
    "# 3. To acccess one value from generator use next() iterator\n",
    "ref=iter(range(1,6)) # use iter() conversion function to convert generator \n",
    "print(next(ref)) # use next() iterator on generator to generate one value from generator each time\n",
    "print(next(ref))\n",
    "print(next(ref))\n",
    "print(next(ref))\n",
    "print(next(ref))\n",
    "#print(next(ref)) # StopIteration as the generator is exhausted"
   ]
  },
  {
   "cell_type": "code",
   "execution_count": null,
   "id": "1cc09440-8ec5-4da4-b171-5dbb858f883e",
   "metadata": {},
   "outputs": [],
   "source": [
    "list1=[10,20,30,40,50]\n",
    "index=0\n",
    "for value in list1:\n",
    "    print(f\"{value} is at {index} position\")\n",
    "    index+=1"
   ]
  },
  {
   "cell_type": "code",
   "execution_count": null,
   "id": "788cd313-2622-42dd-a953-34418621fb20",
   "metadata": {},
   "outputs": [],
   "source": [
    "# enumerate is a builtin generator\n",
    "# most of the times when you get address printed by any function that function is returning a generator!\n",
    "list1=[10,20,30,40,50] \n",
    "print(enumerate(list1))\n",
    "print(list(enumerate(list1)))\n",
    "print(tuple(enumerate(list1)))\n",
    "print(set(enumerate(list1)))\n",
    "print(dict(enumerate(list1)))"
   ]
  },
  {
   "cell_type": "code",
   "execution_count": null,
   "id": "a0762ca9-abd0-4467-b47b-c658fa2c4d38",
   "metadata": {},
   "outputs": [],
   "source": [
    "# use for loop on enumerate(collection) which returns a generator\n",
    "# with postion as first element and value as second element\n",
    "list1=[10,20,30,40,50] \n",
    "for value in enumerate(list1): # value is tuple\n",
    "    print(f\"{value[1]} is at {value[0]} position\") # use [] to unpack tuple\n",
    "print(\" \")\n",
    "for index,value in enumerate(list1): # use multiple var assingment to unpack tuple\n",
    "    print(f\"{value} is at {index} position\") "
   ]
  },
  {
   "cell_type": "code",
   "execution_count": null,
   "id": "6ceb262b-5691-4062-966b-3d5fd76c7a4b",
   "metadata": {},
   "outputs": [],
   "source": [
    "list1=[10,20,30,40,50] \n",
    "ref=iter(enumerate(list1))\n",
    "print(next(ref))\n",
    "print(next(ref))\n",
    "print(next(ref))\n",
    "print(next(ref))\n",
    "print(next(ref))\n",
    "#print(next(ref))"
   ]
  },
  {
   "cell_type": "code",
   "execution_count": null,
   "id": "fb5c40f3-b9df-4e10-bf0f-1d01a2bfc2d7",
   "metadata": {},
   "outputs": [],
   "source": [
    "# comprehensions offer a simplified syntax to create a new collection based on existing collection\n",
    "# list comprehension  / set comprehension / dictionary comprehension\n",
    "# Note: There is no tuple comprehension. It becomes a generator!"
   ]
  },
  {
   "cell_type": "code",
   "execution_count": 6,
   "id": "c1004fb9-9749-4d64-8aff-c13c98685ae0",
   "metadata": {},
   "outputs": [
    {
     "name": "stdout",
     "output_type": "stream",
     "text": [
      "[1, 2, 3, 4, 5]\n",
      "[0, 0, 0, 0, 0]\n",
      "[1, 4, 9, 16, 25]\n",
      "[1, 8, 27, 64, 125]\n"
     ]
    }
   ],
   "source": [
    "# list comprehension # pythonic style of creating iterables!\n",
    "\"\"\"\n",
    "list1=[]\n",
    "for value in range(1,6):\n",
    "    value=value*value\n",
    "    list1.append(value)\n",
    "\"\"\"\n",
    "list1=[value for value in range(1,6)]\n",
    "print(list1)\n",
    "list1=[0 for value in range(1,6)]\n",
    "print(list1)\n",
    "list1=[value*value for value in range(1,6)]\n",
    "print(list1)\n",
    "list1=[value*value*value for value in range(1,6)]\n",
    "print(list1)"
   ]
  },
  {
   "cell_type": "code",
   "execution_count": 13,
   "id": "c0a4c17f-0adc-46b2-8489-003c88fd5b22",
   "metadata": {},
   "outputs": [
    {
     "name": "stdin",
     "output_type": "stream",
     "text": [
      "Enter your player rohit\n"
     ]
    },
    {
     "name": "stdout",
     "output_type": "stream",
     "text": [
      "rohit is in playing 11\n"
     ]
    }
   ],
   "source": [
    "players=[\"Virat\",\"bumRAH\",\"roHit\",\"samson\",\"tiLAK\"]\n",
    "\"\"\"\n",
    "upper_case_players=[]\n",
    "for each_player in players:\n",
    "    upper_case_players.append(each_player.upper())\n",
    "\"\"\"\n",
    "upper_case_players=[each_player.upper() for each_player in players]\n",
    "your_player=input(\"Enter your player\")\n",
    "if your_player.upper() in upper_case_players:\n",
    "    print(f\"{your_player} is in playing 11\")\n",
    "else:\n",
    "    print(f\"{your_player} has to wait for next tournament\")"
   ]
  },
  {
   "cell_type": "code",
   "execution_count": 17,
   "id": "8d68ae69-da2c-469d-99b5-879c3b649149",
   "metadata": {},
   "outputs": [
    {
     "name": "stdout",
     "output_type": "stream",
     "text": [
      "[2, 4, 6, 8, 10]\n",
      "{2, 4, 6, 8, 10}\n"
     ]
    }
   ],
   "source": [
    "# conditional comprehension\n",
    "\"\"\"\n",
    "evens=[]\n",
    "for value in range(1,11):\n",
    "    if value%2==0:\n",
    "        evens.append(value)\n",
    "\"\"\"\n",
    "evens=[value for value in range(1,11)if value%2==0]\n",
    "print(evens)\n",
    "evens={value for value in range(1,11)if value%2==0}\n",
    "print(evens)"
   ]
  },
  {
   "cell_type": "code",
   "execution_count": 14,
   "id": "f8cd1b02-6058-4d3b-b6ec-88d78ab150bf",
   "metadata": {},
   "outputs": [
    {
     "name": "stdout",
     "output_type": "stream",
     "text": [
      "{1, 2, 3, 4, 5}\n",
      "{0}\n",
      "{1, 4, 9, 16, 25}\n",
      "{64, 1, 8, 27, 125}\n"
     ]
    }
   ],
   "source": [
    "set1={value for value in range(1,6)}\n",
    "print(set1)\n",
    "list1=[0 for value in range(1,6)]\n",
    "print(set(list1))\n",
    "set2={value*value for value in range(1,6)}\n",
    "print(set2)\n",
    "set3={value*value*value for value in range(1,6)}\n",
    "print(set3)"
   ]
  },
  {
   "cell_type": "code",
   "execution_count": 20,
   "id": "f1e8f092-b71f-4617-b58b-ebf2d269b5da",
   "metadata": {},
   "outputs": [
    {
     "name": "stdout",
     "output_type": "stream",
     "text": [
      "['virat', 'rohit', 'gill']\n"
     ]
    }
   ],
   "source": [
    "players=[\"Virat\",\"RoHIT\",\"jaDeja\",\"gill\",\"sundar\",\"buMrAH\"]\n",
    "batters=[\"viRAT\",\"rohiT\",\"GILL\",\"gayle\",\"sehwag\"]\n",
    "\n",
    "players_lower=[ each_player.lower() for each_player in players]\n",
    "batters_lower=[ each_batter.lower() for each_batter in batters]\n",
    "\n",
    "common_players=[player for player in players_lower if player in batters_lower]\n",
    "\n",
    "print(common_players)"
   ]
  },
  {
   "cell_type": "code",
   "execution_count": 21,
   "id": "550d6239-d9b4-49c7-9bcc-3d31a4709132",
   "metadata": {},
   "outputs": [
    {
     "name": "stdout",
     "output_type": "stream",
     "text": [
      "['virat', 'rohit', 'gill']\n"
     ]
    }
   ],
   "source": [
    "# Note: Never nest comprehensions. Keep separate comprehensions!\n",
    "players=[\"Virat\",\"RoHIT\",\"jaDeja\",\"gill\",\"sundar\",\"buMrAH\"]\n",
    "batters=[\"viRAT\",\"rohiT\",\"GILL\",\"gayle\",\"sehwag\"]\n",
    "common_players=[player for player in [ each_player.lower() for each_player in players] if player in [ each_batter.lower() for each_batter in batters]]\n",
    "print(common_players)"
   ]
  },
  {
   "cell_type": "code",
   "execution_count": null,
   "id": "e3371866-60f1-4b07-8c33-1882d734204a",
   "metadata": {},
   "outputs": [],
   "source": []
  }
 ],
 "metadata": {
  "kernelspec": {
   "display_name": "Python 3 (ipykernel)",
   "language": "python",
   "name": "python3"
  },
  "language_info": {
   "codemirror_mode": {
    "name": "ipython",
    "version": 3
   },
   "file_extension": ".py",
   "mimetype": "text/x-python",
   "name": "python",
   "nbconvert_exporter": "python",
   "pygments_lexer": "ipython3",
   "version": "3.11.5"
  }
 },
 "nbformat": 4,
 "nbformat_minor": 5
}
