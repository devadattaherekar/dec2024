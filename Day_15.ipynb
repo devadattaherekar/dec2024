{
 "cells": [
  {
   "cell_type": "code",
   "execution_count": null,
   "id": "bd13881a-69ab-42d0-9424-e1af48f7b712",
   "metadata": {},
   "outputs": [],
   "source": [
    "# OOP is used to design enterprise based applications where requirements keep on changing\n",
    "# OOP allow us to create discrete system (no strings attached) \n",
    "# It reduces dependencies between different parts of the program when code becomes large\n",
    "# It allows you with code reusability and extensibilty\n",
    "# What is an object? Anything physical / conceptual / logical \n",
    "# which has got well defined structure (attributes) and behaviour (functionality)\n",
    "# characteristics of an object\n",
    "# 1. state - current value of its attributes (static or dynamic)\n",
    "# 2. behaviour - will act and react when the state changes (methods)\n",
    "# 3. identity - single or set of attributes which can uniquely identify each and every object from rest of the objects\n",
    "# 4. responsibility - role of the object in the domain "
   ]
  },
  {
   "cell_type": "code",
   "execution_count": null,
   "id": "d60bb657-9fb7-451a-8c46-07d4caa85a60",
   "metadata": {},
   "outputs": [],
   "source": [
    "# Object Oriented Language has 4 major pillars and 3 minor pillars\n",
    "# 1. Abstraction - Identifying key attributes and ignoring the rest (what you show) Data / Procedural\n",
    "    # Only domain expertise can create abstraction\n",
    "# 2. Encapsulation - Hiding implementation details (what you dont show)\n",
    "# 3. Inheritance (is a kind of relationship)\n",
    "    # all the functionality of base class is accessible through derived class object\n",
    "    # containment (has a kind of relationship) # when one object becomes a part of another object\n",
    "    #1. composition (tight coupling) # lifetime of inner objects are controlled by outer objects\n",
    "    #2. aggregation (loose coupling) # lifetime is not controlled by outer objects\n",
    "    #3. association (weakest coupling) # one object uses another object\n",
    "# 4. Polymorphism - Ability of different related objects (Inheritance) to respond to a common message \n",
    "#    (method overdding) in its own way!\n",
    "# Minor pillars concurrency, strong typing , persistence "
   ]
  },
  {
   "cell_type": "code",
   "execution_count": 4,
   "id": "b49d9961-52b3-4004-8376-d691070eff06",
   "metadata": {},
   "outputs": [
    {
     "name": "stdout",
     "output_type": "stream",
     "text": [
      "1\n",
      "2\n",
      "3\n"
     ]
    }
   ],
   "source": [
    "# functional programming language\n",
    "count=0\n",
    "\n",
    "def increment(counter):\n",
    "    counter+=1\n",
    "    return counter\n",
    "\n",
    "count=increment(count)\n",
    "print(count)\n",
    "count=increment(count)\n",
    "print(count)\n",
    "count=increment(count)\n",
    "print(count)"
   ]
  },
  {
   "cell_type": "code",
   "execution_count": 5,
   "id": "4d77bf3a-8ca6-4233-80d5-065c2864aa3d",
   "metadata": {},
   "outputs": [
    {
     "name": "stdout",
     "output_type": "stream",
     "text": [
      "<__main__.Integer object at 0x0000018491C72410>\n"
     ]
    }
   ],
   "source": [
    "class Integer: # Integer class\n",
    "    pass\n",
    "\n",
    "i1=Integer() # Here i1 is reference to Integer object\n",
    "print(i1) # address of Integer() object"
   ]
  },
  {
   "cell_type": "code",
   "execution_count": 14,
   "id": "2fca7a69-a763-4070-8a92-f390b3f2e6ac",
   "metadata": {},
   "outputs": [
    {
     "name": "stdout",
     "output_type": "stream",
     "text": [
      "<__main__.Integer object at 0x0000018491C9BD10>\n",
      "<__main__.Integer object at 0x0000018491C9BD10> Hello world\n",
      "<__main__.Integer object at 0x0000018491C76910>\n",
      "<__main__.Integer object at 0x0000018491C76910> Hello world\n"
     ]
    }
   ],
   "source": [
    "# global functions do not require address of the object\n",
    "# methods always requires address of the object on which it has to operate\n",
    "class Integer: # Integer class\n",
    "    def display(self): # self always holds address of the invoking object\n",
    "        print(self,\"Hello world\") # self is just a naming convention given by PEP guidelines!\n",
    "\n",
    "i1=Integer() # Here i1 is reference to Integer object\n",
    "print(i1)\n",
    "i1.display() # call the method using object\n",
    "i2=Integer()\n",
    "print(i2)\n",
    "i2.display() # Here the address of i2 object gets passed"
   ]
  },
  {
   "cell_type": "code",
   "execution_count": 15,
   "id": "8cc0c3a3-475b-4a52-a90f-d811c0be7596",
   "metadata": {},
   "outputs": [
    {
     "name": "stdout",
     "output_type": "stream",
     "text": [
      "Hello world\n"
     ]
    }
   ],
   "source": [
    "def display(): \n",
    "    print(\"Hello world\")\n",
    "display()"
   ]
  },
  {
   "cell_type": "code",
   "execution_count": 35,
   "id": "b57e687a-1558-45a9-8fb6-63dce7f445d7",
   "metadata": {},
   "outputs": [
    {
     "name": "stdout",
     "output_type": "stream",
     "text": [
      "__str__ called\n",
      "10000\n",
      "__str__ called\n",
      "10000\n",
      "__repr__ called\n",
      "<10000>\n"
     ]
    }
   ],
   "source": [
    "class Integer: # Integer class\n",
    "    def __init__(self): # implicit method / dunder method  / ctor\n",
    "        self.count=10000\n",
    "    #def display(self): # explicit method \n",
    "        #print(self.count)\n",
    "    def __str__(self):\n",
    "          print(\"__str__ called\")\n",
    "          return f\"{self.count}\"\n",
    "    def __repr__(self):\n",
    "        print(\"__repr__ called\")\n",
    "        return f\"<{self.count}>\"\n",
    "\n",
    "i1=Integer()# ctor is a special method which gets called automatically when the object is created\n",
    "#i1.display()\n",
    "print(i1) # implicit call to __str__()\n",
    "print(i1.__str__()) # explicitly\n",
    "print(i1.__repr__())"
   ]
  },
  {
   "cell_type": "code",
   "execution_count": 23,
   "id": "adca0fa3-e953-43fd-9025-36fc54639033",
   "metadata": {},
   "outputs": [
    {
     "name": "stdout",
     "output_type": "stream",
     "text": [
      "[10, 20, 30]\n",
      "[10, 20, 30]\n"
     ]
    }
   ],
   "source": [
    "l1=[10,20,30]\n",
    "print(l1)\n",
    "print(l1.__str__())"
   ]
  },
  {
   "cell_type": "code",
   "execution_count": 24,
   "id": "057af9fd-0f46-472f-a2bc-b802049fc395",
   "metadata": {},
   "outputs": [
    {
     "name": "stdout",
     "output_type": "stream",
     "text": [
      "['__class__', '__class_getitem__', '__contains__', '__delattr__', '__delitem__', '__dir__', '__doc__', '__eq__', '__format__', '__ge__', '__getattribute__', '__getitem__', '__getstate__', '__gt__', '__hash__', '__init__', '__init_subclass__', '__ior__', '__iter__', '__le__', '__len__', '__lt__', '__ne__', '__new__', '__or__', '__reduce__', '__reduce_ex__', '__repr__', '__reversed__', '__ror__', '__setattr__', '__setitem__', '__sizeof__', '__str__', '__subclasshook__', 'clear', 'copy', 'fromkeys', 'get', 'items', 'keys', 'pop', 'popitem', 'setdefault', 'update', 'values']\n"
     ]
    }
   ],
   "source": [
    "print(dir(dict))"
   ]
  },
  {
   "cell_type": "code",
   "execution_count": 39,
   "id": "c558abcf-1cb3-47f1-b7b4-0e80a6bc8ba7",
   "metadata": {},
   "outputs": [
    {
     "name": "stdout",
     "output_type": "stream",
     "text": [
      "1\n",
      "2\n",
      "3\n"
     ]
    }
   ],
   "source": [
    "# object oriented language\n",
    "class Integer:\n",
    "    def __init__(self):\n",
    "        self.count=0\n",
    "    def increment(self):\n",
    "        self.count+=1\n",
    "    def __str__(self):\n",
    "        return f\"{self.count}\"\n",
    "    def __repr__(self):\n",
    "        return f\"<{self.count}>\"\n",
    "\n",
    "i1=Integer()\n",
    "i1.increment()\n",
    "print(i1)\n",
    "i1.increment()\n",
    "print(i1)\n",
    "i1.increment()\n",
    "print(i1)"
   ]
  },
  {
   "cell_type": "code",
   "execution_count": 46,
   "id": "787b5914-106f-442c-8881-7f69be9f4349",
   "metadata": {},
   "outputs": [
    {
     "name": "stdout",
     "output_type": "stream",
     "text": [
      "0\n",
      "3\n",
      "3.142\n",
      "area = 28.278 28.278\n",
      "circumference = 18.852 18.852\n"
     ]
    }
   ],
   "source": [
    "class Circle:\n",
    "    PI=3.142 # class level variable is shared among all the objects    \n",
    "    def __init__(self,radius=0):\n",
    "        self.radius=radius # instance level variable is specific to an object\n",
    "    def __str__(self):\n",
    "        return f\"{self.radius}\"\n",
    "    def __repr__(self):\n",
    "        return f\"<{self.radius}>\"\n",
    "    def get_area(self):\n",
    "        return self.PI*self.radius*self.radius\n",
    "    def get_cirumference(self):\n",
    "        return 2*self.PI*self.radius\n",
    "\n",
    "c1=Circle()\n",
    "print(c1)\n",
    "c2=Circle(3)\n",
    "print(c2)\n",
    "print(Circle.PI) # call class level variable using class name\n",
    "print(\"area =\",c2.get_area(),Circle.get_area(c2)) # 2 ways to call methods of class #1.ref.method() #2. class.method(ref)\n",
    "print(\"circumference =\",c2.get_cirumference(),Circle.get_cirumference(c2))"
   ]
  },
  {
   "cell_type": "code",
   "execution_count": null,
   "id": "f84e19df-a25c-4bf6-89bd-e11975e76d29",
   "metadata": {},
   "outputs": [],
   "source": []
  }
 ],
 "metadata": {
  "kernelspec": {
   "display_name": "Python 3 (ipykernel)",
   "language": "python",
   "name": "python3"
  },
  "language_info": {
   "codemirror_mode": {
    "name": "ipython",
    "version": 3
   },
   "file_extension": ".py",
   "mimetype": "text/x-python",
   "name": "python",
   "nbconvert_exporter": "python",
   "pygments_lexer": "ipython3",
   "version": "3.11.5"
  }
 },
 "nbformat": 4,
 "nbformat_minor": 5
}
