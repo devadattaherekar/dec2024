{
 "cells": [
  {
   "cell_type": "code",
   "execution_count": null,
   "id": "63d243c4-e5c1-49f1-899e-0d99006a9ae0",
   "metadata": {},
   "outputs": [],
   "source": [
    "players={\"Virat\",\"RoHIT\",\"jaDeja\",\"gill\",\"sundar\",\"buMrAH\"}\n",
    "batters={\"viRAT\",\"rohiT\",\"GILL\",\"gayle\",\"sehwag\"}\n",
    "players_lower={each_player.lower() for each_player in players}\n",
    "batters_lower={each_batter.lower() for each_batter in batters}\n",
    "print(players_lower.intersection(batters_lower))"
   ]
  },
  {
   "cell_type": "code",
   "execution_count": null,
   "id": "7c86c6e9-6ee2-4ec4-b519-8f2e9c05250b",
   "metadata": {},
   "outputs": [],
   "source": [
    "restaurants=[\n",
    "    {\"name\":\"goodluck\",\"address\":\"deccan\"},\n",
    "    {\"name\":\"barbeque\",\"address\":\"deccan\"},\n",
    "    {\"name\":\"abhishek veg\",\"address\":\"kothrud\"},\n",
    "    {\"name\":\"nawab asia\",\"address\":\"baner\"},\n",
    "    {\"name\":\"prithvi\",\"address\":\"kothrud\"}\n",
    "]\n",
    "current_location=input(\"Enter your current location\")\n",
    "\"\"\"\n",
    "resto_nearby=[]\n",
    "for each_resto in restaurants:\n",
    "    if each_resto[\"address\"]==current_location:\n",
    "        resto_nearby.append(each_resto[\"name\"])\n",
    "\"\"\"\n",
    "resto_nearby=[each_resto[\"name\"] for each_resto in restaurants if each_resto[\"address\"]==current_location]\n",
    "#if len(resto_nearby) > 0:\n",
    "if any(resto_nearby):\n",
    "    print(resto_nearby)\n",
    "else:\n",
    "    print(\"Please try a different location!\")"
   ]
  },
  {
   "cell_type": "code",
   "execution_count": null,
   "id": "b80be522-f0f4-4a9e-8bf0-33dd45ab031d",
   "metadata": {},
   "outputs": [],
   "source": [
    "restaurants={\n",
    "        \"deccan\":[\"goodluck\",\"barbeque\"],\n",
    "        \"kothrud\":{\"abhishek veg\",\"prithvi\"},\n",
    "        \"baner\":{\"nawab asia\"}\n",
    "}\n",
    "current_location=input(\"Enter your current location\")\n",
    "\n",
    "if current_location in restaurants.keys():\n",
    "    print(restaurants[current_location])\n",
    "else:\n",
    "    print(\"Please try a different location\")"
   ]
  },
  {
   "cell_type": "code",
   "execution_count": null,
   "id": "9e509b12-4ce7-4e77-ab65-3e03957b4278",
   "metadata": {},
   "outputs": [],
   "source": [
    "jersey=[10,7,18,45,333]\n",
    "players=[\"sachin\",\"dhoni\",\"virat\",\"rohit\",\"gayle\"]\n",
    "jersey.append(99)\n",
    "players.append(\"sehwag\")\n",
    "jersey.pop(0)\n",
    "players.remove(\"sachin\") \n",
    "# dictionary comprehension create a dictionary based on two collections i.e. list or tuple\n",
    "dream11={ jersey[index]:players[index] for index in range(len(jersey))}\n",
    "print(dream11)\n",
    "print(dict(zip(jersey,players))) # use zip() generator as an alternative for dict comprehension!"
   ]
  },
  {
   "cell_type": "code",
   "execution_count": null,
   "id": "3e92d6d8-7d7b-4418-a03b-f214faa02fad",
   "metadata": {},
   "outputs": [],
   "source": [
    "# zip(collection1,collection2,....) is a generator used to do mapping on 2 or more collections\n",
    "computer_names=[\"laptop-1\",\"server1\",\"desktop-10\"]\n",
    "ipaddr=[\"192.168.10.1\",\"172.16.1.2\",\"8.8.8.8\"]\n",
    "regions=[\"ohio\",\"oregon\",\"mumbai\"]\n",
    "# dns=zip(computer_names,ipaddr)\n",
    "# print(list(dns))\n",
    "# dns=zip(computer_names,ipaddr)\n",
    "# print(tuple(dns))\n",
    "# dns=zip(computer_names,ipaddr)\n",
    "# print(set(dns))\n",
    "# print(dict(zip(computer_names,ipaddr)))\n",
    "print(list(zip(computer_names,ipaddr,regions)))\n",
    "#print(tuple(zip(computer_names,ipaddr,regions)))\n",
    "#print(set(zip(computer_names,ipaddr,regions)))\n",
    "#for instance,ip,region in zip(computer_names,ipaddr,regions):\n",
    "    #print(f\"{instance} with {ip} ipaddress is launced in {region}\")\n",
    "\n",
    "#ref=zip(computer_names,ipaddr,regions)\n",
    "#print(next(ref))\n",
    "#print(next(ref))\n",
    "#print(next(ref))\n",
    "#print(next(ref))"
   ]
  },
  {
   "cell_type": "code",
   "execution_count": null,
   "id": "40a06d2a-66f2-4f25-9bfd-57b2021f46af",
   "metadata": {},
   "outputs": [],
   "source": [
    "list1=[value for value in range(1,6)]\n",
    "print(list1)\n",
    "set1={value for value in range(1,6)}\n",
    "print(set1)\n",
    "gen1=(value for value in range(1,6))\n",
    "print(gen1)\n",
    "print(list(gen1))\n",
    "gen1=(value for value in range(1,6))\n",
    "print(tuple(gen1))\n",
    "gen1=(value for value in range(1,6))\n",
    "print(set(gen1))\n",
    "gen1=(value for value in range(1,6))\n",
    "print(sum(gen1))\n",
    "#gen1=(value for value in range(1,6))\n",
    "#print(len(gen1)) # There is no len() on generator!"
   ]
  },
  {
   "cell_type": "code",
   "execution_count": null,
   "id": "5276018b-d4b6-4743-b2e1-4de2727f7434",
   "metadata": {},
   "outputs": [],
   "source": [
    "gen1=(value for value in range(1,6))\n",
    "print(gen1)\n",
    "for value in gen1:\n",
    "    print(value,end=\" \")"
   ]
  },
  {
   "cell_type": "code",
   "execution_count": null,
   "id": "cec6c3d5-5de1-40d3-be98-0319c6992f46",
   "metadata": {},
   "outputs": [],
   "source": [
    "gen1=(value for value in range(1,6))\n",
    "print(gen1)\n",
    "ref=gen1\n",
    "print(next(ref))\n",
    "print(next(ref))\n",
    "print(next(ref))"
   ]
  },
  {
   "cell_type": "code",
   "execution_count": null,
   "id": "874df023-50b0-41d5-b56f-cb715d624315",
   "metadata": {},
   "outputs": [],
   "source": [
    "# user defined generator is evens\n",
    "evens=(value for value in range(1,11) if value%2==0) \n",
    "print(evens)\n",
    "for even_no in evens:\n",
    "    print(even_no,end=\" \")"
   ]
  },
  {
   "cell_type": "code",
   "execution_count": null,
   "id": "a101ec81-4b07-44f7-8670-31e1a8bd3570",
   "metadata": {},
   "outputs": [],
   "source": [
    "odds=(value for value in range(1,11) if value%2!=0)\n",
    "ref=iter(odds)\n",
    "print(next(ref))\n",
    "print(next(ref))\n",
    "print(next(ref))\n",
    "print(next(ref))\n",
    "print(next(ref))\n",
    "odds=(value for value in range(1,11) if value%2!=0) # create the generator again as it is exhausted!\n",
    "ref=odds\n",
    "print(\"Sum of first 5 odd number is \",sum(ref))"
   ]
  },
  {
   "cell_type": "code",
   "execution_count": null,
   "id": "851ffad9-4fb6-49c1-88ef-cd4ebb4168d7",
   "metadata": {},
   "outputs": [],
   "source": [
    "company=\"tomtom\"\n",
    "ref=iter(company)\n",
    "print(next(ref))\n",
    "print(next(ref))\n",
    "print(next(ref))\n",
    "for letter in company:\n",
    "    print(letter)\n",
    "print(tuple(company))\n",
    "print(list(company))"
   ]
  },
  {
   "cell_type": "code",
   "execution_count": null,
   "id": "62b685c2-30d3-40b4-891a-4b1abb4b6c34",
   "metadata": {},
   "outputs": [],
   "source": [
    "# functions in python return None type by default\n",
    "# greet is not taking any arg and not returning any value\n",
    "def greet(): # function definition\n",
    "    print(\"Have a nice day!\") # Body of the function\n",
    "\n",
    "greet() # function call"
   ]
  },
  {
   "cell_type": "code",
   "execution_count": null,
   "id": "5368d624-e734-4c79-9b4f-7fec0d8d2f6a",
   "metadata": {},
   "outputs": [],
   "source": [
    "def add(value1,value2): # 2 parameters\n",
    "    return value1+value2 # returns single value always\n",
    "\n",
    "print(\"Addition is\",add(100,200)) # function takes 2 args"
   ]
  },
  {
   "cell_type": "code",
   "execution_count": null,
   "id": "9c80e7d4-fc4e-46b0-8146-d65021738aea",
   "metadata": {},
   "outputs": [],
   "source": [
    "def add(value1,value2): # 2 parameters\n",
    "    print(\"Addition is\",value1+value2) # returns single value always\n",
    "\n",
    "add(100,200)\n",
    "add(4.5,6.7)\n",
    "add((10+3j),(2+6j))\n",
    "add(\"sachin\",\"sehwag\")"
   ]
  },
  {
   "cell_type": "code",
   "execution_count": null,
   "id": "d22db89f-ada2-4538-a40e-3a10bd6a281f",
   "metadata": {},
   "outputs": [],
   "source": [
    "# Default arg when not all arguments needs to be passed during function call\n",
    "# Note: Only trailing args can be defaulted\n",
    "# It means one can only give default value to the left parameter after setting it to the right parameter\n",
    "def add(value1=0,value2=0): # default arguments\n",
    "    return value1+value2 \n",
    "\n",
    "print(\"Addition is\",add())  # Here value1 becomes 0 and value2 becomes 0 \n",
    "print(\"Addition is\",add(10)) # Here value1 becomes 10 and value2 becomes 0 \n",
    "print(\"Addition is\",add(10,20)) # Here value1 becomes 10 and value2 becomes 20 "
   ]
  },
  {
   "cell_type": "code",
   "execution_count": null,
   "id": "6d536dc8-47a1-443a-9494-706cee34d51c",
   "metadata": {},
   "outputs": [],
   "source": [
    "def add(value1,value2=1): # default arguments\n",
    "    return value1+value2 \n",
    "    \n",
    "print(\"Addition is\",add(10)) # Here value1 becomes 10 and value2 becomes 0 \n",
    "print(\"Addition is\",add(10,20)) # Here value1 becomes 10 and value2 becomes 20 "
   ]
  },
  {
   "cell_type": "code",
   "execution_count": null,
   "id": "1e0d0703-fc20-4603-87ed-0dea27bea5ea",
   "metadata": {},
   "outputs": [],
   "source": [
    "def movie_details(actor=\"*\",year=0,movie=\"___\"): # default args\n",
    "    print(f\"{actor} acts in {movie} released in {year}\")\n",
    "\n",
    "movie_details(\"russel crowe\",2000,\"gladiator\") # unnamed args have to passed in same order\n",
    "movie_details(year=1975,actor=\"stallone\",movie=\"rocky\") # named args / keyword args or kwargs\n",
    "# named args can be passed in any order! And it increases the readability of code instead of unnamed arg\n",
    "movie_details()"
   ]
  },
  {
   "cell_type": "code",
   "execution_count": null,
   "id": "07eb25d5-9814-4824-a866-019a9da8f9c4",
   "metadata": {},
   "outputs": [],
   "source": [
    "def add(value1,value2=1): # default arguments\n",
    "    return value1+value2 \n",
    "    \n",
    "print(\"Addition is\",add(10)) # Here value1 becomes 10 and value2 becomes 0 \n",
    "print(\"Addition is\",add(10,20)) # Here value1 becomes 10 and value2 becomes 20 \n",
    "print(\"Addition is\",add(add(10,20),30))\n",
    "print(\"Addition is\",add(add(add(10,20),30),40))"
   ]
  },
  {
   "cell_type": "code",
   "execution_count": null,
   "id": "eb7ea632-7a20-4f3a-8c79-0588f46a5943",
   "metadata": {},
   "outputs": [],
   "source": [
    "def show(*args): \n",
    "    return args\n",
    "print(show(1))\n",
    "print(show(10,20))\n",
    "print(show(1,2,3,4,5))"
   ]
  },
  {
   "cell_type": "code",
   "execution_count": null,
   "id": "04a2da5c-ae13-45f3-ba54-e1a45e1302b2",
   "metadata": {},
   "outputs": [],
   "source": [
    "def add(*args): # Here * creates a tuple which can hold any number of unnamed args\n",
    "    total=0\n",
    "    #print(type(args))\n",
    "    for value in args: # unpack tuple using for loop\n",
    "        total+=value\n",
    "    return total\n",
    "\n",
    "print(add())\n",
    "print(add(1))\n",
    "print(add(10,20))\n",
    "print(add(1,2,3,4,5))"
   ]
  },
  {
   "cell_type": "code",
   "execution_count": 5,
   "id": "abeefb94-31be-4f23-8d43-31d9a3d42d08",
   "metadata": {},
   "outputs": [
    {
     "name": "stdout",
     "output_type": "stream",
     "text": [
      "(10, 'india', 'sachin')\n",
      "10 india sachin\n",
      "10 india sachin\n"
     ]
    }
   ],
   "source": [
    "def test_function():\n",
    "    return 10,\"india\",\"sachin\" # Here comma operator creates a tuple \n",
    "    # and you are not returning 3 values but returning a single object of class tuple\n",
    "\n",
    "print(test_function())\n",
    "record=test_function()\n",
    "print(record[0],record[1],record[2])\n",
    "jersey,country,player=test_function() # tuple unpacking\n",
    "print(jersey,country,player)"
   ]
  },
  {
   "cell_type": "code",
   "execution_count": null,
   "id": "e07be465-3fc3-418d-9cf0-dd1ccc3645d8",
   "metadata": {},
   "outputs": [],
   "source": []
  }
 ],
 "metadata": {
  "kernelspec": {
   "display_name": "Python 3 (ipykernel)",
   "language": "python",
   "name": "python3"
  },
  "language_info": {
   "codemirror_mode": {
    "name": "ipython",
    "version": 3
   },
   "file_extension": ".py",
   "mimetype": "text/x-python",
   "name": "python",
   "nbconvert_exporter": "python",
   "pygments_lexer": "ipython3",
   "version": "3.11.5"
  }
 },
 "nbformat": 4,
 "nbformat_minor": 5
}
