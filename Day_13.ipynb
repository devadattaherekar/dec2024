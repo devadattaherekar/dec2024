{
 "cells": [
  {
   "cell_type": "code",
   "execution_count": null,
   "id": "08a3174a-c85e-4fe0-af83-06cdd3524d8e",
   "metadata": {},
   "outputs": [],
   "source": [
    "#client server architecture\n",
    "#1-tier architecture (No network involved) single machine # data is stored permanently using filesystem\n",
    "#2-tier architecture (network is required) one client and other will be database server\n",
    "#3-tier architecture (client/webserver/database) # internet is required"
   ]
  },
  {
   "cell_type": "code",
   "execution_count": null,
   "id": "308772ee-afd8-4566-8fea-22256eec29fd",
   "metadata": {},
   "outputs": [],
   "source": [
    "%%writefile rhyme.txt\n",
    "row row row your boat\n",
    "gently down the stream\n",
    "merrily merrily merrily merrily\n",
    "life is but a dream"
   ]
  },
  {
   "cell_type": "code",
   "execution_count": null,
   "id": "aa12aba0-a484-4622-8648-f229c7740672",
   "metadata": {},
   "outputs": [],
   "source": [
    "try:\n",
    "    fp=open(\"gratitude.txt\",\"w\") # modes of files # r w a r+ w+ a+ \n",
    "    if fp.writable():\n",
    "        fp.write(\"Thank you GOD for birds thy sing\\n\")\n",
    "        fp.write(\"Thank you GOD for world so sweet\\n\")\n",
    "        fp.write(\"Thank you GOD for food we eat\\n\")\n",
    "        fp.write(\"Thank you GOD for everything!\\n\")\n",
    "        fp.close() # save the file back to the hard drive!\n",
    "    else:\n",
    "        print(\"Error to create file in write mode!\")\n",
    "except:\n",
    "    print(\"File is not created!\")"
   ]
  },
  {
   "cell_type": "code",
   "execution_count": null,
   "id": "f5f09742-499f-47e5-94b1-d11c80dd2ac1",
   "metadata": {},
   "outputs": [],
   "source": [
    "pwd"
   ]
  },
  {
   "cell_type": "code",
   "execution_count": 2,
   "id": "4cc87667-c6d0-4cfc-a649-fba29395fd20",
   "metadata": {},
   "outputs": [],
   "source": [
    "# context managers to create files so that files will automatically be closed\n",
    "# no need to use close() function explicitly\n",
    "with open(\"gratitude1.txt\",\"w\") as fp:\n",
    "    fp.write(\"Thank you GOD for birds thy sing\\n\")\n",
    "    fp.write(\"Thank you GOD for world so sweet\\n\")\n",
    "    fp.write(\"Thank you GOD for food we eat\\n\")\n",
    "    fp.write(\"Thank you GOD for everything!\\n\")"
   ]
  },
  {
   "cell_type": "code",
   "execution_count": null,
   "id": "57ef37fa-3b7d-4366-861f-c9caee63330a",
   "metadata": {},
   "outputs": [],
   "source": [
    "collection=[\n",
    "            \"row row row your boat\\n\",\n",
    "            \"gently down the stream\\n\",\n",
    "            \"merrily merrily merrily merrily\\n\",\n",
    "            \"life is but a dream\\n\"\n",
    "]\n",
    "with open(\"myrhyme.txt\",\"w\") as fp:\n",
    "    fp.writelines(collection) "
   ]
  },
  {
   "cell_type": "code",
   "execution_count": null,
   "id": "105dfbfd-3072-48bb-9408-a983fa960a44",
   "metadata": {},
   "outputs": [],
   "source": [
    "collection=[\n",
    "            \"row row row your boat\",\n",
    "            \"gently down the stream\",\n",
    "            \"merrily merrily merrily merrily\",\n",
    "            \"life is but a dream\"\n",
    "]\n",
    "with open(\"myrhyme.txt\",\"w\") as fp:\n",
    "   for each_line in collection:\n",
    "        fp.write(each_line+\"\\n\")"
   ]
  },
  {
   "cell_type": "code",
   "execution_count": null,
   "id": "fbba37c8-f487-4d44-a4b9-3e6eef13feca",
   "metadata": {},
   "outputs": [],
   "source": [
    "with open(\"myrhyme.txt\",\"r\") as fp:\n",
    "    print(fp.read())\n",
    "with open(\"myrhyme.txt\",\"r\") as fp:\n",
    "    print(fp.read())\n",
    "fp=open(\"myrhyme.txt\",\"r\")\n",
    "print(fp.read())\n",
    "fp.seek(0) # rewind your file pointer to point address of the first character again\n",
    "print(fp.read())    \n",
    "fp.seek(12) # file pointer is now holding address of the 12th character\n",
    "print(fp.read()) # reading now is done from 12th character    \n",
    "fp.close()"
   ]
  },
  {
   "cell_type": "code",
   "execution_count": 11,
   "id": "82adf7c8-7fd4-45a3-bef0-fb2647356963",
   "metadata": {},
   "outputs": [
    {
     "name": "stdout",
     "output_type": "stream",
     "text": [
      "Thank you GOD for birds thy sing\n",
      "Thank you GOD for world so sweet\n",
      "Thank you GOD for food we eat\n",
      "Thank you GOD for everything!\n"
     ]
    }
   ],
   "source": [
    "with open(\"gratitude1.txt\",\"r\") as fp:\n",
    "    if fp.readable():\n",
    "        line1=fp.readline()\n",
    "        print(line1.strip(\"\\n\"))\n",
    "        line2=fp.readline()\n",
    "        print(line2.strip(\"\\n\"))\n",
    "        print(fp.readline().strip(\"\\n\"))\n",
    "        print(fp.readline().strip(\"\\n\"))"
   ]
  },
  {
   "cell_type": "code",
   "execution_count": 15,
   "id": "901af705-fd6f-4bec-81ce-71b3bdbba2bd",
   "metadata": {},
   "outputs": [
    {
     "name": "stdin",
     "output_type": "stream",
     "text": [
      "Enter the word to search gOd\n"
     ]
    },
    {
     "name": "stdout",
     "output_type": "stream",
     "text": [
      "Total number of lines in the file 4\n",
      "GOD appears 4 times in the file\n"
     ]
    }
   ],
   "source": [
    "count=0\n",
    "total_lines=0\n",
    "word_search=input(\"Enter the word to search\")\n",
    "with open(\"gratitude1.txt\",\"r\") as fp:\n",
    "    if fp.readable():\n",
    "        line=fp.readline()\n",
    "        while line:\n",
    "            if word_search.lower() in line.lower():\n",
    "                count+=1\n",
    "            line=fp.readline()\n",
    "            total_lines+=1\n",
    "print(\"Total number of lines in the file\",total_lines)\n",
    "print(f\"GOD appears {count} times in the file\")"
   ]
  },
  {
   "cell_type": "code",
   "execution_count": 26,
   "id": "1622887e-dc17-4491-8925-baae198a40ea",
   "metadata": {},
   "outputs": [
    {
     "name": "stdout",
     "output_type": "stream",
     "text": [
      "['Thank you GOD for birds thy sing\\n', 'Thank you GOD for world so sweet\\n', 'Thank you GOD for food we eat\\n', 'Thank you GOD for everything!\\n']\n",
      "Total number of lines in the file 4\n",
      "First line in the file :  Thank you GOD for birds thy sing\n",
      "\n",
      "Last line in the file :  Thank you GOD for everything!\n",
      "\n",
      "Second and Third lines are :  ['Thank you GOD for world so sweet\\n', 'Thank you GOD for food we eat\\n']\n",
      "Thank you GOD for world so sweet\n",
      " Thank you GOD for food we eat\n",
      " "
     ]
    }
   ],
   "source": [
    "with open(\"gratitude1.txt\",\"r\") as fp:\n",
    "    collection=fp.readlines() # Note readlines will return all the lines of the file into a list!!!\n",
    "    print(collection)\n",
    "    print(\"Total number of lines in the file\",len(collection))\n",
    "    print(\"First line in the file : \",collection[0])\n",
    "    print(\"Last line in the file : \",collection[-1])\n",
    "    print(\"Second and Third lines are : \",collection[1:3])\n",
    "    for line in collection[1:3]:\n",
    "        print(line,end=\" \")\n",
    "        "
   ]
  },
  {
   "cell_type": "code",
   "execution_count": 40,
   "id": "b5344bf8-3e88-4e6b-b68f-eb82e2755b0c",
   "metadata": {},
   "outputs": [
    {
     "name": "stdout",
     "output_type": "stream",
     "text": [
      "['Thank you LORD so much\\n', 'Thank you GOD for WORLD SO SWEET\\n', 'Thank you GOD for this life\\n']\n"
     ]
    }
   ],
   "source": [
    "with open(\"gratitude1.txt\",\"r\") as fp:\n",
    "    collection=fp.readlines() # read\n",
    "    del collection[0] # remove the first line from list # delete\n",
    "    collection.remove('Thank you GOD for food we eat\\n') # delete\n",
    "    collection.pop(1) # delete\n",
    "    collection.insert(0,\"Thank you LORD so much\\n\") # insert\n",
    "    collection.append(\"Thank you GOD for this life\\n\") #insert\n",
    "    collection[1]=\"Thank you GOD for WORLD SO SWEET\\n\" # update\n",
    "    print(collection)\n",
    "\n",
    "with open(\"modifed_prayer.txt\",\"w\") as fp:\n",
    "    fp.writelines(collection)"
   ]
  },
  {
   "cell_type": "code",
   "execution_count": 33,
   "id": "0de61479-1ed2-4af1-aa46-9dbae9686def",
   "metadata": {},
   "outputs": [
    {
     "name": "stdout",
     "output_type": "stream",
     "text": [
      "['__add__', '__class__', '__contains__', '__delattr__', '__dir__', '__doc__', '__eq__', '__format__', '__ge__', '__getattribute__', '__getitem__', '__getnewargs__', '__getstate__', '__gt__', '__hash__', '__init__', '__init_subclass__', '__iter__', '__le__', '__len__', '__lt__', '__mod__', '__mul__', '__ne__', '__new__', '__reduce__', '__reduce_ex__', '__repr__', '__rmod__', '__rmul__', '__setattr__', '__sizeof__', '__str__', '__subclasshook__', 'capitalize', 'casefold', 'center', 'count', 'encode', 'endswith', 'expandtabs', 'find', 'format', 'format_map', 'index', 'isalnum', 'isalpha', 'isascii', 'isdecimal', 'isdigit', 'isidentifier', 'islower', 'isnumeric', 'isprintable', 'isspace', 'istitle', 'isupper', 'join', 'ljust', 'lower', 'lstrip', 'maketrans', 'partition', 'removeprefix', 'removesuffix', 'replace', 'rfind', 'rindex', 'rjust', 'rpartition', 'rsplit', 'rstrip', 'split', 'splitlines', 'startswith', 'strip', 'swapcase', 'title', 'translate', 'upper', 'zfill']\n"
     ]
    }
   ],
   "source": [
    "print(dir(str))"
   ]
  },
  {
   "cell_type": "code",
   "execution_count": 60,
   "id": "34e68bd5-4958-471a-8f8d-85f468167f79",
   "metadata": {},
   "outputs": [
    {
     "name": "stdout",
     "output_type": "stream",
     "text": [
      "['sachin,10,india\\n', 'sehwag,99,india\\n', 'virat,18,india\\n', 'warne,23,australia\\n', 'gayle,333,westindies\\n', 'rohit,45,india\\n']\n",
      "sachin 10 india\n",
      "sehwag 99 india\n",
      "virat 18 india\n",
      "warne 23 australia\n",
      "gayle 333 westindies\n",
      "rohit 45 india\n",
      "Total of second column is :  528\n"
     ]
    }
   ],
   "source": [
    "total=0\n",
    "with open(\"players.csv\",\"r\") as fp:\n",
    "    all_data=fp.readlines()\n",
    "    print(all_data)\n",
    "    for each_record in all_data:\n",
    "        each_row=each_record.strip(\"\\n\").split(\",\")\n",
    "        print(each_row[0],each_row[1],each_row[2])\n",
    "        total+=int(each_row[1])\n",
    "print(\"Total of second column is : \",total)"
   ]
  },
  {
   "cell_type": "code",
   "execution_count": 59,
   "id": "e5f43ea0-d437-44ec-9b50-749bcbf57ad3",
   "metadata": {},
   "outputs": [
    {
     "name": "stdout",
     "output_type": "stream",
     "text": [
      "sachin,10,india\n",
      "sehwag,99,india\n",
      "virat,18,india\n",
      "warne,23,australia\n",
      "gayle,333,westindies\n",
      "rohit,45,india\n",
      "\n"
     ]
    }
   ],
   "source": [
    "with open(\"players.csv\",\"r\") as fp:  \n",
    "    print(fp.read())"
   ]
  },
  {
   "cell_type": "code",
   "execution_count": 91,
   "id": "0dbb4091-83f1-44dd-b6c8-b9c230553386",
   "metadata": {},
   "outputs": [
    {
     "name": "stdout",
     "output_type": "stream",
     "text": [
      "sachin 10 india\n",
      "sehwag 99 india\n",
      "virat 18 india\n",
      "warne 23 australia\n",
      "gayle 333 westindies\n",
      "rohit 45 india\n",
      "Total of second column is 528\n"
     ]
    }
   ],
   "source": [
    "import csv\n",
    "\n",
    "#print(dir(csv)) \n",
    "# csv.reader(filepointer) is a generator which returns list\n",
    "total=0\n",
    "with open(\"players.csv\",\"r\") as fp:\n",
    "    each_record=csv.reader(fp)\n",
    "    next(each_record) # Skip the header of the csv file\n",
    "    for each_row in each_record:\n",
    "        print(each_row[0],each_row[1],each_row[2])\n",
    "        total+=int(each_row[1])\n",
    "print(\"Total of second column is\",total)"
   ]
  },
  {
   "cell_type": "code",
   "execution_count": 73,
   "id": "d9c793a6-3c36-454d-9147-65812c37a623",
   "metadata": {},
   "outputs": [],
   "source": [
    "import csv\n",
    "\n",
    "# if you use writerow then blankline gets inserted after every row so use newline kwarg in open() to avoid it\n",
    "with open(\"dreamplayers.csv\",\"w\",newline=\"\") as fp:\n",
    "    data=csv.writer(fp)\n",
    "    #print(dir(data))\n",
    "    data.writerow([\"sunny\",10,\"india\"])\n",
    "    data.writerow([\"vinay\",64,\"india\"])\n",
    "    data.writerow([\"shridhar\",99,\"india\"])"
   ]
  },
  {
   "cell_type": "code",
   "execution_count": 76,
   "id": "e91dd7be-4be1-47bf-b707-a776931b5f8e",
   "metadata": {},
   "outputs": [],
   "source": [
    "import csv\n",
    "\n",
    "# if you use writerow then blankline gets inserted after every row so use newline kwarg in open() to avoid it\n",
    "collection=[[\"mohammed\",64,\"india\"],[\"aarti\",99,\"india\"],[\"nitin\",10,\"india\"]]\n",
    "with open(\"dreamplayers.csv\",\"w\",newline=\"\") as fp:\n",
    "    data=csv.writer(fp)\n",
    "    data.writerows(collection)"
   ]
  },
  {
   "cell_type": "code",
   "execution_count": 81,
   "id": "c30acc25-d597-4954-a642-3c456964a0cf",
   "metadata": {},
   "outputs": [
    {
     "name": "stdout",
     "output_type": "stream",
     "text": [
      "[['prashant', 'tomtom', '1000'], ['shridhar', 'tomtom', '9999'], ['sunny', 'tomtom', '8888'], ['nitin', 'tomtom', '7777']]\n"
     ]
    }
   ],
   "source": [
    "import csv\n",
    "\n",
    "with open(\"emp.csv\",\"r\") as fs:\n",
    "    data=csv.reader(fs,delimiter=\"|\")\n",
    "    print(list(data))"
   ]
  },
  {
   "cell_type": "code",
   "execution_count": 92,
   "id": "f9402060-c14a-4b75-b429-ccc1ca80f936",
   "metadata": {},
   "outputs": [
    {
     "name": "stdout",
     "output_type": "stream",
     "text": [
      "Total titles 1450\n",
      "Total science_fiction titles 91\n",
      "Total comedy titles 502\n"
     ]
    }
   ],
   "source": [
    "import csv\n",
    "\n",
    "science_fiction=0\n",
    "total_titles=0\n",
    "comedy=0\n",
    "\n",
    "with open(\"disney_plus_titles.csv\",\"r\",encoding='utf-8') as fs:\n",
    "    all_data=csv.reader(fs)\n",
    "    next(all_data) # skip the first row\n",
    "    for each_record in all_data:\n",
    "        #print(each_record[2],each_record[10])\n",
    "        if \"Science Fiction\" in each_record[10]:\n",
    "            science_fiction+=1\n",
    "        elif \"Comedy\" in each_record[10]:\n",
    "            comedy+=1\n",
    "        total_titles+=1\n",
    "\n",
    "print(\"Total titles\",total_titles)\n",
    "print(\"Total science_fiction titles\",science_fiction)\n",
    "print(\"Total comedy titles\",comedy)"
   ]
  },
  {
   "cell_type": "code",
   "execution_count": null,
   "id": "4b0e017c-a3c3-4e39-a2d5-b1624e3dd76b",
   "metadata": {},
   "outputs": [],
   "source": []
  }
 ],
 "metadata": {
  "kernelspec": {
   "display_name": "Python 3 (ipykernel)",
   "language": "python",
   "name": "python3"
  },
  "language_info": {
   "codemirror_mode": {
    "name": "ipython",
    "version": 3
   },
   "file_extension": ".py",
   "mimetype": "text/x-python",
   "name": "python",
   "nbconvert_exporter": "python",
   "pygments_lexer": "ipython3",
   "version": "3.11.5"
  }
 },
 "nbformat": 4,
 "nbformat_minor": 5
}
