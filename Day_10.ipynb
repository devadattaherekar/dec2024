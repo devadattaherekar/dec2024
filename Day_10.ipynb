{
 "cells": [
  {
   "cell_type": "code",
   "execution_count": null,
   "id": "de648723-32c6-49bf-92bc-29fbe110ffd6",
   "metadata": {},
   "outputs": [],
   "source": [
    "def divide(var1,var2):\n",
    "    return var1/var2\n",
    "\n",
    "try:\n",
    "    print(divide(10,0))\n",
    "except:\n",
    "    print(\"cannot divide by zero\")"
   ]
  },
  {
   "cell_type": "code",
   "execution_count": null,
   "id": "bc18523f-5681-4f70-bbcb-85b1776a1fbf",
   "metadata": {},
   "outputs": [],
   "source": [
    "def divide(var1,var2):\n",
    "    if var2==0:\n",
    "         return \"Cannot divide by zero\"\n",
    "    return var1/var2\n",
    "\n",
    "print(divide(10,0))"
   ]
  },
  {
   "cell_type": "code",
   "execution_count": null,
   "id": "60cbfdc2-1bb9-45b8-993b-6b7addb835e3",
   "metadata": {},
   "outputs": [],
   "source": [
    "def divide_decorator(funp):\n",
    "    def custom_divide(x,y):\n",
    "        if y==0:\n",
    "            return \"Cannot divide!!!\"\n",
    "        return funp(x,y)\n",
    "    return custom_divide\n",
    "\n",
    "@divide_decorator\n",
    "def divide(var1,var2):\n",
    "    return var1/var2\n",
    "\n",
    "#divide=divide_decorator(divide)\n",
    "print(divide(10,0))"
   ]
  },
  {
   "cell_type": "code",
   "execution_count": null,
   "id": "f0fb9e57-fc49-4ac3-940c-16e07a7bbbe4",
   "metadata": {},
   "outputs": [],
   "source": [
    "def decor1(funcp): #funcp holds address of num\n",
    "    def compute():\n",
    "        x=funcp() # funcp() generates call to num() indirectly!\n",
    "        return x*2\n",
    "    return compute # always return address of inner function from decorator\n",
    "\n",
    "def decor2(funcp):\n",
    "    def compute():\n",
    "        x=funcp()\n",
    "        return x*x\n",
    "    return compute\n",
    "\n",
    "@decor2\n",
    "@decor1 # Here decor1 is applied first and then decor2\n",
    "def num():\n",
    "    return 10\n",
    "\n",
    "print(num())"
   ]
  },
  {
   "cell_type": "code",
   "execution_count": null,
   "id": "f976c3c4-5a11-4960-b8d8-0ce89973e8bf",
   "metadata": {},
   "outputs": [],
   "source": [
    "# anonymous functions are called as lambda functions\n",
    "#def foo():\n",
    "    #print(\"foo called\")\n",
    "#foo()\n",
    "\n",
    "(lambda:print(\"foo called\"))() # generate a call through lambda directly!\n",
    "\n",
    "print((lambda:print(\"foo called\"))) # print address of lambda function\n",
    "\n",
    "ref1=(lambda:print(\"foo called\")) # store lamdba into ref1\n",
    "ref1() # using ref1 call lamdba "
   ]
  },
  {
   "cell_type": "code",
   "execution_count": null,
   "id": "82132a72-1952-4959-97a8-7b2f01f7483a",
   "metadata": {},
   "outputs": [],
   "source": [
    "def add(x,y):\n",
    "    print(\"addition is =\",end=\" \")\n",
    "    return x+y\n",
    "print(add(10,20))\n",
    "# Note: lambda can be used for small functions which have single expressions or used in decision making!\n",
    "ref1=(lambda x,y:x+y) # Here lamdba takes 2 args and body of the lambda returns single value after add\n",
    "print(ref1(10,20)) # generate call to lambda using arguments\n",
    "print((lambda x,y:x+y)(100,200))"
   ]
  },
  {
   "cell_type": "code",
   "execution_count": 7,
   "id": "c0ad32a8-cf5b-407f-9581-c35af62bd533",
   "metadata": {},
   "outputs": [
    {
     "name": "stdout",
     "output_type": "stream",
     "text": [
      "tcs tata tieto tata technologies cts "
     ]
    }
   ],
   "source": [
    "companies=[\"tcs\",\"tata\",\"tieto\",\"tata technologies\",\"wipro\",\"eaton\",\"infosys\",\"cts\"]\n",
    "\n",
    "def companies_startwith_t(company):\n",
    "    return company.startswith('t') or company.startswith('c')\n",
    "\n",
    "# filter is builtin generator which takes 2 args i.e. yield value only if True\n",
    "# first arg is address of the function which return bool value True/False\n",
    "# second arg is iterable (collection) list/set/tuple/dict\n",
    "#print(list(filter(companies_startwith_t,companies)))\n",
    "for company in filter(companies_startwith_t,companies):\n",
    "    print(company,end=\" \")\n",
    "\n",
    "# ref1=filter(companies_startwith_t,companies)\n",
    "# print(next(ref1))\n",
    "# print(next(ref1))\n",
    "# print(next(ref1))"
   ]
  },
  {
   "cell_type": "code",
   "execution_count": 9,
   "id": "7c22a7db-7a13-42ca-a3f6-67df5dfdf904",
   "metadata": {},
   "outputs": [
    {
     "name": "stdout",
     "output_type": "stream",
     "text": [
      "tcs tata tieto tata technologies "
     ]
    }
   ],
   "source": [
    "companies=[\"tcs\",\"tata\",\"tieto\",\"tata technologies\",\"wipro\",\"eaton\",\"infosys\",\"cts\"]\n",
    "\n",
    "for company in filter(lambda company:company.startswith('t') ,companies):\n",
    "    print(company,end=\" \")"
   ]
  },
  {
   "cell_type": "code",
   "execution_count": 13,
   "id": "a18eae57-3767-468b-81b4-7fd785b88321",
   "metadata": {},
   "outputs": [
    {
     "name": "stdout",
     "output_type": "stream",
     "text": [
      "<generator object myfilter at 0x000001A2801765E0>\n",
      "tcs tata tieto tata technologies  \n",
      "tcs tata tieto tata technologies  \n",
      "tcs tata tieto tata technologies "
     ]
    }
   ],
   "source": [
    "companies=[\"tcs\",\"tata\",\"tieto\",\"tata technologies\",\"wipro\",\"eaton\",\"infosys\",\"cts\"]\n",
    "\n",
    "def company_starting_with_t(company):\n",
    "    return company.startswith('t')\n",
    "\n",
    "def myfilter(funcp,company_collection):\n",
    "    for each_company in company_collection:\n",
    "        if funcp(each_company):\n",
    "            yield each_company\n",
    "            \n",
    "print(myfilter(company_starting_with_t,companies))\n",
    "for company in myfilter(companies_startwith_t,companies):\n",
    "    print(company,end=\" \")\n",
    "print(\" \")\n",
    "for company in myfilter(lambda company:company.startswith('t'),companies):\n",
    "    print(company,end=\" \")\n",
    "print(\" \")\n",
    "\n",
    "gen1=( company for company in companies if company.startswith('t')) # pythonic way to create generator\n",
    "for company in gen1:\n",
    "    print(company,end=\" \")"
   ]
  },
  {
   "cell_type": "code",
   "execution_count": 18,
   "id": "8d49e672-ba46-4f21-930d-a2718e1f4930",
   "metadata": {},
   "outputs": [
    {
     "name": "stdout",
     "output_type": "stream",
     "text": [
      "<map object at 0x000001A280D285B0>\n",
      "1 8 27 64 125  \n",
      "1 8 27 64 125  \n",
      "1 8 27 64 125  \n"
     ]
    }
   ],
   "source": [
    "numbers=[1,2,3,4,5]\n",
    "def cubes(num):\n",
    "    return num*num*num\n",
    "# map is a builtin generator which takes 2 args\n",
    "# first is address of the function doing some computation\n",
    "# second is iterables or collection \n",
    "print(map(cubes,numbers))\n",
    "for value in map(cubes,numbers): # without using lambda pass address of the function as first arg!\n",
    "    print(value,end=\" \")\n",
    "print(\" \")\n",
    "for value in map(lambda num:num*num*num,numbers): # using lambda in map generator!\n",
    "    print(value,end=\" \")\n",
    "print(\" \")\n",
    "gen1=(value*value*value for value in range(1,6)) # pythonic way to create generator\n",
    "for value in gen1:\n",
    "    print(value,end=\" \")\n",
    "print(\" \")"
   ]
  },
  {
   "cell_type": "code",
   "execution_count": null,
   "id": "d6bdadea-4ab0-4f59-9c34-26c8b8df6c69",
   "metadata": {},
   "outputs": [],
   "source": [
    "# collection of several .py files is called package\n",
    "# single .py file is called as module\n",
    "# To install python packages pip / conda installer"
   ]
  },
  {
   "cell_type": "code",
   "execution_count": null,
   "id": "78d14f5c-7a05-41ab-b1d1-3742f09e6fa4",
   "metadata": {},
   "outputs": [],
   "source": [
    "# How does a python project work?\n",
    "# Every python project creates its separate virtual environment (isolated environment)\n",
    "# ALl packages belonging to the project are installed in its venv\n",
    "# To create virtualenv / pipenv / condaenv to create virtual env"
   ]
  },
  {
   "cell_type": "code",
   "execution_count": null,
   "id": "dc7615af-46bd-4996-b918-876dbce7f349",
   "metadata": {},
   "outputs": [],
   "source": [
    "# pip list # will list packages and versions in base env\n",
    "# pip install virtualenv\n",
    "# mkdir <python_project>\n",
    "# virtualenv <python_project>\n",
    "# cd <python_project>/<Scripts>/\n",
    "# activate\n",
    "# pip list # will list packages from virtualenv \n",
    "# pip install <package>\n",
    "# pip freeze > requirements.txt\n",
    "# deactivate # move out of the folder to show packages from base env\n",
    "# pip install -r requirements.txt # replicate the project with all packages to install from requirements.txt"
   ]
  }
 ],
 "metadata": {
  "kernelspec": {
   "display_name": "Python 3 (ipykernel)",
   "language": "python",
   "name": "python3"
  },
  "language_info": {
   "codemirror_mode": {
    "name": "ipython",
    "version": 3
   },
   "file_extension": ".py",
   "mimetype": "text/x-python",
   "name": "python",
   "nbconvert_exporter": "python",
   "pygments_lexer": "ipython3",
   "version": "3.11.5"
  }
 },
 "nbformat": 4,
 "nbformat_minor": 5
}
