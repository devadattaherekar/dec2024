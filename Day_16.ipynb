{
 "cells": [
  {
   "cell_type": "code",
   "execution_count": 14,
   "id": "a70f4008-dac8-4404-9760-e2017576ccec",
   "metadata": {},
   "outputs": [
    {
     "name": "stdout",
     "output_type": "stream",
     "text": [
      "__repr__ called\n",
      "<vinay 100>\n",
      "__repr__ called\n",
      "<sunny 99>\n"
     ]
    }
   ],
   "source": [
    "class Student:\n",
    "    def __init__(self,name,marks):\n",
    "        self.name=name\n",
    "        self.marks=marks\n",
    "\n",
    "    # def __str__(self):\n",
    "    #     print(\"__str__ called\")\n",
    "    #     return f\"{self.name} has scored {self.marks} marks!\"\n",
    "\n",
    "    def __repr__(self):\n",
    "        print(\"__repr__ called\")\n",
    "        return f\"<{self.name} {self.marks}>\"\n",
    "        \n",
    "s1=Student(\"vinay\",100)\n",
    "print(s1)\n",
    "s2=Student(\"sunny\",99)\n",
    "print(s2)"
   ]
  },
  {
   "cell_type": "code",
   "execution_count": 2,
   "id": "8378ae7e-351f-428f-9094-3bf03c8682e2",
   "metadata": {},
   "outputs": [
    {
     "name": "stdout",
     "output_type": "stream",
     "text": [
      "employee id 1000  nitin works at ibm\n",
      "Company is  ibm\n",
      "employee id 1000  nitin works at microsoft\n",
      "Cannot assign infosys!\n"
     ]
    }
   ],
   "source": [
    "class Employee:\n",
    "    def __init__(self,emp_id,emp_name,emp_company):\n",
    "        self.emp_id=emp_id\n",
    "        self.emp_name=emp_name\n",
    "        self.emp_company=emp_company\n",
    "\n",
    "    @property\n",
    "    def getcompany(self):\n",
    "        return self.emp_company\n",
    "\n",
    "    @getcompany.setter\n",
    "    def setcompany(self,company):\n",
    "        companies=[\"tomtom\",\"microsoft\",\"accenture\"]\n",
    "        if company in companies:\n",
    "            self.emp_company=company\n",
    "        else:\n",
    "            raise ValueError(f\"Cannot assign {company}!\")\n",
    "\n",
    "    def __str__(self):\n",
    "        return f\"employee id {self.emp_id}  {self.emp_name} works at {self.emp_company}\"\n",
    "\n",
    "e1=Employee(1000,\"nitin\",\"ibm\")\n",
    "print(e1)\n",
    "#print(\"Company is \",e1.getcompany())\n",
    "print(\"Company is \",e1.getcompany)\n",
    "#e1.setcompany(\"microsoft\")\n",
    "e1.setcompany=\"microsoft\"\n",
    "print(e1)\n",
    "try:\n",
    "    e1.setcompany=\"infosys\"\n",
    "    #e1.setcompany(\"infosys\")\n",
    "    print(e1)\n",
    "except ValueError as errmsg:\n",
    "    print(errmsg)"
   ]
  },
  {
   "cell_type": "code",
   "execution_count": 3,
   "id": "764ff270-a3fc-4411-acd0-ff560d83aec6",
   "metadata": {},
   "outputs": [
    {
     "name": "stdout",
     "output_type": "stream",
     "text": [
      "['dio', 'grazia', 'activa']\n",
      "Total number of vehicles 3\n",
      "Total number of vehicles 3 3\n",
      "First vehicle is  dio\n",
      "Last vehicle is  activa\n",
      "__getitem__ called\n",
      "__getitem__ called\n",
      "First vehicle is  dio dio\n",
      "__getitem__ called\n",
      "__getitem__ called\n",
      "Last vehicle is  activa activa\n",
      "Twowheelers are ... \n",
      "dio grazia activa Twowheelers are ... \n",
      "__getitem__ called\n",
      "dio __getitem__ called\n",
      "grazia __getitem__ called\n",
      "activa __getitem__ called\n"
     ]
    }
   ],
   "source": [
    "class Honda:\n",
    "    def __init__(self):\n",
    "        self.vehicle=[]\n",
    "        \n",
    "    def add_vehicle(self,vname):\n",
    "        self.vehicle.append(vname)\n",
    "\n",
    "    def total_vehicles(self):\n",
    "        return len(self.vehicle)\n",
    "        \n",
    "    def __str__(self):\n",
    "        return f\"{self.vehicle}\"\n",
    "\n",
    "    def __len__(self):\n",
    "        return len(self.vehicle)\n",
    "\n",
    "    def __getitem__(self,index):\n",
    "        print(\"__getitem__ called\")     \n",
    "        return self.vehicle[index]\n",
    "\n",
    "v1=Honda()\n",
    "v1.add_vehicle(\"dio\")\n",
    "v1.add_vehicle(\"grazia\")\n",
    "v1.add_vehicle(\"activa\")\n",
    "print(v1)\n",
    "print(\"Total number of vehicles\",v1.total_vehicles())\n",
    "print(\"Total number of vehicles\",len(v1),v1.__len__())\n",
    "print(\"First vehicle is \",v1.vehicle[0])\n",
    "print(\"Last vehicle is \",v1.vehicle[-1])\n",
    "print(\"First vehicle is \",v1[0],v1.__getitem__(0))\n",
    "print(\"Last vehicle is \",v1[-1],v1.__getitem__(-1))\n",
    "\n",
    "print(\"Twowheelers are ... \")\n",
    "for each_twowheeler in v1.vehicle:\n",
    "    print(each_twowheeler,end=\" \")\n",
    "\n",
    "print(\"Twowheelers are ... \")\n",
    "for each_twowheeler in v1: \n",
    "    print(each_twowheeler,end=\" \")"
   ]
  },
  {
   "cell_type": "code",
   "execution_count": 4,
   "id": "085a4da0-c735-47a1-9182-117e224b4623",
   "metadata": {},
   "outputs": [
    {
     "name": "stdout",
     "output_type": "stream",
     "text": [
      "3\n",
      "10\n",
      "10 20 30 ['__add__', '__class__', '__class_getitem__', '__contains__', '__delattr__', '__delitem__', '__dir__', '__doc__', '__eq__', '__format__', '__ge__', '__getattribute__', '__getitem__', '__getstate__', '__gt__', '__hash__', '__iadd__', '__imul__', '__init__', '__init_subclass__', '__iter__', '__le__', '__len__', '__lt__', '__mul__', '__ne__', '__new__', '__reduce__', '__reduce_ex__', '__repr__', '__reversed__', '__rmul__', '__setattr__', '__setitem__', '__sizeof__', '__str__', '__subclasshook__', 'append', 'clear', 'copy', 'count', 'extend', 'index', 'insert', 'pop', 'remove', 'reverse', 'sort']\n"
     ]
    }
   ],
   "source": [
    "list1=[10,20,30]\n",
    "print(len(list1))\n",
    "print(list1[0])\n",
    "for item in list1:\n",
    "    print(item,end=\" \")\n",
    "print(dir(list1))"
   ]
  },
  {
   "cell_type": "code",
   "execution_count": 5,
   "id": "ae22df62-af48-4a83-897d-e480f1ac73c5",
   "metadata": {},
   "outputs": [
    {
     "name": "stdout",
     "output_type": "stream",
     "text": [
      "(5+6j)\n",
      "(3+2j)\n",
      "(8+8j)\n",
      "(2+4j)\n",
      "['__abs__', '__add__', '__bool__', '__class__', '__complex__', '__delattr__', '__dir__', '__doc__', '__eq__', '__format__', '__ge__', '__getattribute__', '__getnewargs__', '__getstate__', '__gt__', '__hash__', '__init__', '__init_subclass__', '__le__', '__lt__', '__mul__', '__ne__', '__neg__', '__new__', '__pos__', '__pow__', '__radd__', '__reduce__', '__reduce_ex__', '__repr__', '__rmul__', '__rpow__', '__rsub__', '__rtruediv__', '__setattr__', '__sizeof__', '__str__', '__sub__', '__subclasshook__', '__truediv__', 'conjugate', 'imag', 'real']\n"
     ]
    }
   ],
   "source": [
    "c1=(5+6j)\n",
    "c2=(3+2j)\n",
    "print(c1)\n",
    "print(c2)\n",
    "c3=c1+c2\n",
    "print(c3)\n",
    "c3=c1-c2\n",
    "print(c3)\n",
    "print(dir(complex))"
   ]
  },
  {
   "cell_type": "code",
   "execution_count": 6,
   "id": "900a6caa-a08a-4169-8416-fbba8c36ada3",
   "metadata": {},
   "outputs": [
    {
     "name": "stdout",
     "output_type": "stream",
     "text": [
      "[10, 20, 30, 40, 50, 60]\n"
     ]
    }
   ],
   "source": [
    "list1=[10,20,30]\n",
    "list2=[40,50,60]\n",
    "print(list1+list2)"
   ]
  },
  {
   "cell_type": "code",
   "execution_count": 7,
   "id": "419881b6-8f97-4848-b0af-4f85aa9d95e3",
   "metadata": {},
   "outputs": [
    {
     "name": "stdout",
     "output_type": "stream",
     "text": [
      "(5+6j)\n",
      "(3+2j)\n",
      "__add__ called....\n",
      "(8+8j)\n",
      "__sub__ called....\n",
      "(2+4j)\n",
      "__mul__ called....\n",
      "(15+12j)\n",
      "__truediv__ called....\n",
      "(1.6666666666666667+3.0j)\n",
      "__floordiv__ called....\n",
      "(1+3j)\n"
     ]
    }
   ],
   "source": [
    "# operator overloading is extending the meaning of predefined operators on user defined types\n",
    "class Complex:\n",
    "    def __init__(self,real,imag):\n",
    "        self.real=real\n",
    "        self.imag=imag\n",
    "    def __str__(self):\n",
    "        return f\"({self.real}+{self.imag}j)\"\n",
    "    def __add__(self,cc): # Note: self will hold c1 address and cc will hold c2 address\n",
    "        print(\"__add__ called....\")\n",
    "        return Complex(self.real+cc.real,self.imag+cc.imag)\n",
    "    def __sub__(self,cc):\n",
    "        print(\"__sub__ called....\")\n",
    "        return Complex(self.real-cc.real,self.imag-cc.imag)\n",
    "    def __mul__(self,cc):\n",
    "        print(\"__mul__ called....\")\n",
    "        return Complex(self.real*cc.real,self.imag*cc.imag)\n",
    "    def __truediv__(self,cc):\n",
    "        print(\"__truediv__ called....\")\n",
    "        return Complex(self.real/cc.real,self.imag/cc.imag)\n",
    "    def __floordiv__(self,cc):\n",
    "        print(\"__floordiv__ called....\")\n",
    "        return Complex(self.real//cc.real,self.imag//cc.imag)\n",
    "        \n",
    "c1=Complex(5,6)\n",
    "print(c1)\n",
    "c2=Complex(3,2)\n",
    "print(c2)\n",
    "c3=c1+c2 # c1 will call __add__ and c2 is passed as argument\n",
    "print(c3)\n",
    "c4=c1-c2 # c4=c1.__sub__(c2)\n",
    "print(c4)\n",
    "c5=c1*c2 # c1 will call __mul__ and c2 is passed as argument\n",
    "print(c5)\n",
    "c5=c1/c2\n",
    "print(c5)\n",
    "c5=c1//c2\n",
    "print(c5)"
   ]
  },
  {
   "cell_type": "code",
   "execution_count": 8,
   "id": "8cb88d39-c1b0-48c3-87bc-fbcfa9187943",
   "metadata": {},
   "outputs": [
    {
     "name": "stdout",
     "output_type": "stream",
     "text": [
      "(1000, 2000, 1000, 2000, 1000, 2000, 1000, 2000, 1000, 2000)\n",
      "(1000, 2000, 1000, 2000, 1000, 2000, 1000, 2000, 1000, 2000)\n",
      "['__add__', '__class__', '__class_getitem__', '__contains__', '__delattr__', '__dir__', '__doc__', '__eq__', '__format__', '__ge__', '__getattribute__', '__getitem__', '__getnewargs__', '__getstate__', '__gt__', '__hash__', '__init__', '__init_subclass__', '__iter__', '__le__', '__len__', '__lt__', '__mul__', '__ne__', '__new__', '__reduce__', '__reduce_ex__', '__repr__', '__rmul__', '__setattr__', '__sizeof__', '__str__', '__subclasshook__', 'count', 'index']\n"
     ]
    }
   ],
   "source": [
    "tuple1=(1000,2000)\n",
    "tuple2=(5,6)\n",
    "print(tuple1*5)\n",
    "print(tuple1.__mul__(5))\n",
    "print(dir(tuple))"
   ]
  },
  {
   "cell_type": "code",
   "execution_count": 9,
   "id": "19fa9b57-49e5-43ff-bbf7-3fc38a4422c6",
   "metadata": {},
   "outputs": [
    {
     "name": "stdout",
     "output_type": "stream",
     "text": [
      "Help on wrapper_descriptor:\n",
      "\n",
      "__mul__(self, value, /)\n",
      "    Return self*value.\n",
      "\n",
      "None\n"
     ]
    }
   ],
   "source": [
    "print(help(tuple.__mul__))"
   ]
  },
  {
   "cell_type": "code",
   "execution_count": 10,
   "id": "f93d57f9-215c-4bc3-bb3e-36dc27dcb6de",
   "metadata": {},
   "outputs": [
    {
     "name": "stdout",
     "output_type": "stream",
     "text": [
      "['__add__', '__class__', '__class_getitem__', '__contains__', '__delattr__', '__delitem__', '__dir__', '__doc__', '__eq__', '__format__', '__ge__', '__getattribute__', '__getitem__', '__getstate__', '__gt__', '__hash__', '__iadd__', '__imul__', '__init__', '__init_subclass__', '__iter__', '__le__', '__len__', '__lt__', '__mul__', '__ne__', '__new__', '__reduce__', '__reduce_ex__', '__repr__', '__reversed__', '__rmul__', '__setattr__', '__setitem__', '__sizeof__', '__str__', '__subclasshook__', 'append', 'clear', 'copy', 'count', 'extend', 'index', 'insert', 'pop', 'remove', 'reverse', 'sort']\n"
     ]
    }
   ],
   "source": [
    "print(dir(list))"
   ]
  },
  {
   "cell_type": "code",
   "execution_count": 11,
   "id": "fc7ad974-382c-4f70-85ee-280928323edf",
   "metadata": {},
   "outputs": [
    {
     "name": "stdout",
     "output_type": "stream",
     "text": [
      "100\n",
      "100\n",
      "__eq__() called\n",
      "Both are equal\n"
     ]
    }
   ],
   "source": [
    "# relational operator > < >= <= == !=\n",
    "# __gt__() __lt__() __ge__() __le__() __eq__() __ne__()\n",
    "class Integer:\n",
    "    def __init__(self,value):\n",
    "        self.value=value\n",
    "    def __str__(self):\n",
    "        return f\"{self.value}\"\n",
    "    def __gt__(self,ii): # self holds address i1 and ii holds i2 \n",
    "        print(\"__gt__() called\")\n",
    "        return self.value > ii.value # compare values and return bool\n",
    "    def __lt__(self,ii): # self holds address i1 and ii holds i2 \n",
    "        print(\"__lt__() called\")\n",
    "        return self.value < ii.value # compare values and return bool\n",
    "    def __ge__(self,ii): # self holds address i1 and ii holds i2 \n",
    "        print(\"__ge__() called\")\n",
    "        return self.value >= ii.value # compare values and return bool    \n",
    "    def __le__(self,ii): # self holds address i1 and ii holds i2 \n",
    "        print(\"__le__() called\")\n",
    "        return self.value <= ii.value # compare values and return bool\n",
    "    def __eq__(self,ii): # self holds address i1 and ii holds i2 \n",
    "        print(\"__eq__() called\")\n",
    "        return self.value == ii.value # compare values and return bool\n",
    "    def __ne__(self,ii): # self holds address i1 and ii holds i2 \n",
    "        print(\"__ne__() called\")\n",
    "        return self.value != ii.value # compare values and return bool\n",
    "\n",
    "i1=Integer(100)\n",
    "print(i1)\n",
    "i2=Integer(100)\n",
    "print(i2)\n",
    "if i1 == i2: # i1.__eq__(i2) \n",
    "     print(\"Both are equal\")\n",
    "else:\n",
    "     print(\"Not equal\")"
   ]
  },
  {
   "cell_type": "code",
   "execution_count": 12,
   "id": "5c48b31b-ae4f-49fa-b2fd-74213c7c8997",
   "metadata": {},
   "outputs": [
    {
     "name": "stdout",
     "output_type": "stream",
     "text": [
      "You are reading monk who sold his ferrari\n",
      "You are reading who will cry when you die\n",
      "You are reading Fountain Head\n",
      "Total number of books in library are 3\n",
      "All books in the libarry are...\n",
      "You are reading monk who sold his ferrari\n",
      "You are reading who will cry when you die\n",
      "You are reading Fountain Head\n"
     ]
    }
   ],
   "source": [
    "class Library:\n",
    "    def __init__(self,*no_of_books):\n",
    "        self.books=no_of_books\n",
    "    def __str__(self):\n",
    "        return f\"Total number of books in library are {len(self.books)}\"\n",
    "    def all_books(self):\n",
    "        for each_book in self.books:\n",
    "            print(each_book) # each_book.__str__()\n",
    "\n",
    "class Book:\n",
    "    def __init__(self,book_name):\n",
    "        self.book_name=book_name\n",
    "    def __str__(self):\n",
    "        return f\"You are reading {self.book_name}\"\n",
    "\n",
    "b1=Book(\"monk who sold his ferrari\")\n",
    "b2=Book(\"who will cry when you die\")\n",
    "b3=Book(\"Fountain Head\")\n",
    "print(b1)\n",
    "print(b2)\n",
    "print(b3)\n",
    "mylibrary=Library(b1,b2,b3)\n",
    "print(mylibrary)\n",
    "print(\"All books in the libarry are...\")\n",
    "mylibrary.all_books()"
   ]
  },
  {
   "cell_type": "code",
   "execution_count": null,
   "id": "c719f00f-9b74-4558-a8d8-aef804e714ba",
   "metadata": {},
   "outputs": [],
   "source": []
  }
 ],
 "metadata": {
  "kernelspec": {
   "display_name": "Python 3 (ipykernel)",
   "language": "python",
   "name": "python3"
  },
  "language_info": {
   "codemirror_mode": {
    "name": "ipython",
    "version": 3
   },
   "file_extension": ".py",
   "mimetype": "text/x-python",
   "name": "python",
   "nbconvert_exporter": "python",
   "pygments_lexer": "ipython3",
   "version": "3.11.5"
  }
 },
 "nbformat": 4,
 "nbformat_minor": 5
}
